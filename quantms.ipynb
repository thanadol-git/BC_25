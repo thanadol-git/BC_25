{
 "cells": [
  {
   "cell_type": "markdown",
   "metadata": {},
   "source": [
    "Welcome everyone this afternoon session. This worksheep will guide you to everything that you need including instructions, the questions and definitely the bonus questions for your extra scores. Before we start with anything, please fill in your information here so we can give you nice some nice scores later. \n",
    "\n",
    "- Member1:\n",
    "- Member2: \n",
    "- Member3: \n",
    "- Member4: \n",
    "- Member5: \n",
    "\n",
    "\n",
    "Please try to elaborate this exercise with the lectures from the first week. The goal of this lab is for you to enjoy mass spectrometry data much more. MS is absolutely an intrigueing technology. In other words, it is not that simple to understand it with in a few minutes but we are here to explore them all together. Nevertheless, we try to reduce several steps into just a simple exercise. \n",
    "\n",
    "## Intended learning outcomes (ILOs)\n",
    "\n",
    "On completion of the lab, the student should be able to:\n",
    "\n",
    "1. Demonstrate understandings and insights in mass spectrometry\n",
    "2. Retrieve open access mass spectrometry data\n",
    "3. Access organism proteome from database \n",
    "4. Identify the relevant issues of complexity in high-throughput data structure from mass spectrometry\n",
    "5. Demonstrate capacity to store and handle high throughput data with efficiency "
   ]
  },
  {
   "cell_type": "markdown",
   "metadata": {},
   "source": [
    "## Let's start! \n",
    "\n",
    "We have created a simple exercise for you on <https://github.com/thanadol-git/bc_25>. Please try to follow it along with answering the questions here. The teachers will try to help you in the class so don't worry if it looks a bit difficult. We are always here to help. \n",
    "\n",
    "You may learn a bit about mass spectrometry from Fredrik. Now, we are touching a real dataset. First look at the SDRF file. Here is the [link](https://www.cell.com/cancer-cell/fulltext/S1535-6108(22)00274-4?_returnURL=https%3A%2F%2Flinkinghub.elsevier.com%2Fretrieve%2Fpii%2FS1535610822002744%3Fshowall%3Dtrue) to the main article.\n",
    "\n",
    "## Q1. \n",
    "**What do you see in the SDRF file? How many samples are there?** \n",
    "\n",
    "Ans.\n",
    "\n",
    "## Q2.\n",
    "**What is PRIDE accession ID for this dataset? Summarise the experiment in a short paragraph (<100 words).**\n",
    "\n",
    "Ans. \n",
    "\n",
    "## Q3. \n",
    "**What samples were used and located in the organism/s in this experiment?**\n",
    "\n",
    "Ans.\n",
    "\n",
    "## Q4.\n",
    "**What is the model of the instrument? What is its set-up? Is it labelled or labelled-free quantification?**\n",
    "\n",
    "Ans. \n"
   ]
  },
  {
   "cell_type": "code",
   "execution_count": null,
   "metadata": {},
   "outputs": [],
   "source": [
    "# libraries \n",
    "import numpy as np\n",
    "import pandas as pd\n",
    "# matplotlib\n",
    "import matplotlib.pyplot as plt\n",
    "# seaborn\n",
    "import seaborn as sns\n",
    "# sklearn"
   ]
  },
  {
   "cell_type": "code",
   "execution_count": null,
   "metadata": {},
   "outputs": [],
   "source": [
    "# Download the results \n",
    "\n",
    "## SDRF\n",
    "sdrf = pd.read_csv('cell_metadata_scbc25.sdrf.tsv', sep='\\t')\n",
    "## DIANN report\n",
    "diann_report = pd.read_csv('diannsummary/diann_report.unique_genes_matrix.tsv', sep='\\t')\n"
   ]
  },
  {
   "cell_type": "markdown",
   "metadata": {},
   "source": [
    "## Q5. \n",
    "**What do you see in the report file? What are the columns and the rows** \n",
    "\n"
   ]
  },
  {
   "cell_type": "code",
   "execution_count": null,
   "metadata": {},
   "outputs": [],
   "source": [
    "# Dynamic range\n",
    "\n",
    "# pivot longer of all column  except Genes as `samples`\n",
    "diann_report_long = diann_report.melt(id_vars=['Genes'], var_name='Samples', value_name='Intensity')\n",
    "\n",
    "diann_report_long.head()"
   ]
  },
  {
   "cell_type": "code",
   "execution_count": null,
   "metadata": {},
   "outputs": [],
   "source": [
    "n_samples = diann_report_long['Samples'].nunique()\n",
    "print(f'Number of samples: {n_samples}')"
   ]
  },
  {
   "cell_type": "code",
   "execution_count": null,
   "metadata": {},
   "outputs": [],
   "source": [
    "# Count missing values for each genes\n",
    "missing_values = diann_report_long.groupby('Genes')['Intensity'].apply(lambda x: x.isna().sum()).reset_index()\n",
    "# rename Intensity to Missing\n",
    "missing_values.rename(columns={'Intensity': 'Missing'}, inplace=True)\n",
    "# remove Missing is zero\n",
    "# missing_values = missing_values[missing_values['Missing'] > 0]\n",
    "# sort by Missing   \n",
    "missing_values.sort_values(by='Missing', ascending=False, inplace=True)\n",
    "# reset index\n",
    "missing_values.reset_index(drop=True, inplace=True)\n",
    "\n",
    "# Calculate percentage of missing values\n",
    "missing_values['Percentage'] = (missing_values['Missing'] / n_samples) * 100\n",
    "\n",
    "missing_values.head()\n"
   ]
  },
  {
   "cell_type": "markdown",
   "metadata": {},
   "source": [
    "## Q6. \n",
    "**How many genes that are always being detected in this experiment?** \n"
   ]
  },
  {
   "cell_type": "code",
   "execution_count": null,
   "metadata": {},
   "outputs": [],
   "source": [
    "# Filter missing genes\n",
    "# Use 50% rule\n",
    "selected_genes = missing_values[missing_values['Percentage'] <= 50]['Genes'].tolist()\n",
    "print(selected_genes)\n",
    "\n",
    "# Filter diann_report_long for selected genes\n",
    "diann_report_long_filtered = diann_report_long[diann_report_long['Genes'].isin(selected_genes)]\n",
    "\n",
    "# impute missing values with 0\n",
    "diann_report_long_filtered['Intensity'].fillna(0, inplace=True)\n",
    "diann_report_long_filtered.head()"
   ]
  },
  {
   "cell_type": "code",
   "execution_count": null,
   "metadata": {},
   "outputs": [],
   "source": [
    "# Join with sdrf\n",
    "dr_plot_join = diann_report_long_filtered.merge(sdrf, left_on='Samples', right_on='comment[data file]', how='left')\n",
    "\n",
    "# filter only non zero intensity\n",
    "dr_plot = dr_plot_join[dr_plot_join['Intensity'] > 0]"
   ]
  },
  {
   "cell_type": "code",
   "execution_count": null,
   "metadata": {},
   "outputs": [],
   "source": [
    "# Plot the dynamic range\n",
    "plt.figure(figsize=(12, 6))\n",
    "sns.boxplot(data=dr_plot, x='factor value[cell line]', y='Intensity', hue = 'characteristics[organism part]',\n",
    "            palette='Set2', showfliers=False)\n",
    "plt.xticks(rotation=90)\n",
    "plt.title('Dynamic Range of Intensities Across Samples')\n",
    "plt.xlabel('Samples')\n",
    "plt.ylabel('Intensity')\n",
    "plt.tight_layout()\n",
    "plt.yscale('log')\n",
    "plt.legend(loc='upper left', bbox_to_anchor=(1, 1))\n",
    "plt.show()\n"
   ]
  },
  {
   "cell_type": "code",
   "execution_count": null,
   "metadata": {},
   "outputs": [],
   "source": [
    "# Find average intensity per genes\n",
    "avg_intensity = dr_plot.groupby('Genes')['Intensity'].mean().reset_index()\n",
    "# Sort by average intensity\n",
    "avg_intensity.sort_values(by='Genes', ascending=True, inplace=True)\n",
    "# Reset index\n",
    "avg_intensity.reset_index(drop=True, inplace=True)  \n",
    "avg_intensity.head(10)"
   ]
  },
  {
   "cell_type": "code",
   "execution_count": null,
   "metadata": {},
   "outputs": [],
   "source": [
    "# Find average expression per tissue\n",
    "avg_intensity_tissue = dr_plot.groupby(['Genes', 'characteristics[organism part]'])['Intensity'].mean().reset_index()\n",
    "#reanme column Intensity to Average_Intensity\n",
    "avg_intensity_tissue.rename(columns={'Intensity': 'Average_Tissue_Intensity'}, inplace=True)\n",
    "\n",
    "avg_intensity_tissue.head()"
   ]
  },
  {
   "cell_type": "markdown",
   "metadata": {},
   "source": [
    "Now we want to see the enrich genes for each tissue. We just basically calculate the ratio betweeb average gene expression and the average expression of gene for all tissues."
   ]
  },
  {
   "cell_type": "code",
   "execution_count": null,
   "metadata": {},
   "outputs": [],
   "source": [
    "# Calculate tissue ratio of average in each gene\n",
    "\n",
    "# join avg_intensity with avg_intensity_tissue\n",
    "avg_intensity_joined = avg_intensity.merge(avg_intensity_tissue, on='Genes', how='left')\n",
    "\n",
    "# Calculate ratio\n",
    "avg_intensity_joined['Tissue_Ratio'] = avg_intensity_joined['Average_Tissue_Intensity'] / avg_intensity_joined['Intensity']\n",
    "\n",
    "avg_intensity_joined\n"
   ]
  },
  {
   "cell_type": "code",
   "execution_count": null,
   "metadata": {},
   "outputs": [],
   "source": [
    "# Look at your tissue \n",
    "tissue = 'Skin'\n",
    "# Filter by tissue\n",
    "top_marker_skin = avg_intensity_joined[avg_intensity_joined['characteristics[organism part]'] == tissue]\n",
    "# Filter ratio greater than 2\n",
    "top_marker_skin = top_marker_skin[top_marker_skin['Tissue_Ratio'] > 3]\n",
    "\n",
    "# Sort by Tissue_Ratio\n",
    "top_marker_skin = top_marker_skin['Genes'].sort_values(ascending=True).tolist()\n",
    "top_marker_skin\n"
   ]
  },
  {
   "cell_type": "markdown",
   "metadata": {},
   "source": [
    "# Look at HPA\n",
    "\n",
    "\n",
    "In the search box, you can search multiple genes with this simple syntax:\n",
    "```\n",
    "gene_name:ACE2, INS\n",
    "```\n",
    "\n",
    "## Q7. \n",
    "**From HPA, do you see evidences of the tissue location?** \n",
    "Ans. \n",
    "\n",
    "## Q8. \n",
    "**Similarly, what can be the marker for your cell line?**\n"
   ]
  },
  {
   "cell_type": "code",
   "execution_count": null,
   "metadata": {},
   "outputs": [],
   "source": [
    "# Visualize protein expression for your markers\n",
    "\n",
    "# Filter with your avg_intensity_joined_skin['Genes'] from dr_plot_join\n",
    "dr_plot_join_skin = dr_plot_join[dr_plot_join['Genes'].isin(top_marker_skin)]\n",
    "# Reorder by Intensity\n",
    "dr_plot_join_skin"
   ]
  },
  {
   "cell_type": "code",
   "execution_count": null,
   "metadata": {},
   "outputs": [],
   "source": [
    "order = sdrf['factor value[cell line]'].unique().tolist()\n",
    "\n",
    "# Facet the bar plot by Genes and color by characteristics[organism part]\n",
    "g = sns.FacetGrid(dr_plot_join_skin, col=\"Genes\", col_wrap=3, sharey=False, height=4)\n",
    "g.map(sns.barplot, \"factor value[cell line]\", \"Intensity\", \"characteristics[organism part]\", \n",
    "      order=order, ci=None, palette=\"Set2\")\n",
    "g.set_xticklabels(rotation=90)\n",
    "g.set_axis_labels(\"Cell Lines\", \"Intensity\")\n",
    "# g.set(yscale=\"log\")  # Set y-axis to log scale\n",
    "g.fig.tight_layout()\n",
    "# \n",
    "plt.show()"
   ]
  }
 ],
 "metadata": {
  "kernelspec": {
   "display_name": "Python 3",
   "language": "python",
   "name": "python3"
  },
  "language_info": {
   "codemirror_mode": {
    "name": "ipython",
    "version": 3
   },
   "file_extension": ".py",
   "mimetype": "text/x-python",
   "name": "python",
   "nbconvert_exporter": "python",
   "pygments_lexer": "ipython3",
   "version": "3.10.18"
  }
 },
 "nbformat": 4,
 "nbformat_minor": 2
}
