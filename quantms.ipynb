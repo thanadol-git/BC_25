{
 "cells": [
  {
   "cell_type": "markdown",
   "metadata": {},
   "source": [
    "Welcome everyone to lab one. This worksheep will guide you to everything that you need including instructions, the questions and definitely the bonus questions for your extra scores. Before we start with anything, please fill in your information here so we can give you nice some nice scores later. \n",
    "\n",
    "- Member1:\n",
    "- Member2: \n",
    "- Member3: \n",
    "- Member4: \n",
    "\n",
    "Please try to elaborate this exercise with the lectures from the first week. The goal of this lab is for you to enjoy mass spectrometry data much more. MS is absolutely an intrigueing technology. In other words, it is not that simple to understand it with in a few minutes but we are here to explore them all together. Nevertheless, we try to reduce several steps into just a simple exercise. \n",
    "\n",
    "## Intended learning outcomes (ILOs)\n",
    "\n",
    "On completion of the lab, the student should be able to:\n",
    "\n",
    "1. Demonstrate understandings and insights in mass spectrometry\n",
    "2. Retrieve open access mass spectrometry data\n",
    "3. Access organism proteome from database \n",
    "4. Identify the relevant issues of complexity in high-throughput data structure from mass spectrometry\n",
    "5. Demonstrate capacity to store and handle high throughput data with efficiency "
   ]
  },
  {
   "cell_type": "markdown",
   "metadata": {},
   "source": [
    "## Let's start! \n",
    "\n",
    "We have created a simple exercise for you on <https://github.com/thanadol-git/bc_25>. Please try to follow it along with answering the questions here. The teachers will try to help you in the class so don't worry if it looks a bit difficult. We are always here to help. \n",
    "\n",
    "You may learn a bit about mass spectrometry from Fredrik. Now, we are touching a real dataset. First look at the SDRF file. Here is the [link](https://www.cell.com/cancer-cell/fulltext/S1535-6108(22)00274-4?_returnURL=https%3A%2F%2Flinkinghub.elsevier.com%2Fretrieve%2Fpii%2FS1535610822002744%3Fshowall%3Dtrue) to the main article.\n",
    "\n",
    "## Q1. \n",
    "**What do you see in the SDRF file? How many samples are there?** \n",
    "\n",
    "Ans.\n",
    "\n",
    "## Q2.\n",
    "**What is PRIDE accession ID for this dataset? Summarise the experiment in a short paragraph (<100 words).**\n",
    "\n",
    "Ans. \n",
    "\n",
    "## Q3. \n",
    "**What samples were used and located in the organism/s in this experiment?**\n",
    "\n",
    "Ans.\n",
    "\n",
    "## Q4.\n",
    "**What is the model of the instrument? What is its set-up? Is it labelled or labelled-free quantification?**\n",
    "\n",
    "Ans. \n"
   ]
  }
 ],
 "metadata": {
  "language_info": {
   "name": "python"
  }
 },
 "nbformat": 4,
 "nbformat_minor": 2
}
