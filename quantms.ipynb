{
 "cells": [
  {
   "cell_type": "markdown",
   "metadata": {},
   "source": [
    "Welcome everyone to lab one. This worksheep will guide you to everything that you need including instructions, the questions and definitely the bonus questions for your extra scores. Before we start with anything, please fill in your information here so we can give you nice some nice scores later. \n",
    "\n",
    "- Member1:\n",
    "- Member2: \n",
    "- Member3: \n",
    "- Member4: \n",
    "\n",
    "Please try to elaborate this exercise with the lectures from the first week. The goal of this lab is for you to enjoy mass spectrometry data much more. MS is absolutely an intrigueing technology. In other words, it is not that simple to understand it with in a few minutes but we are here to explore them all together. Nevertheless, we try to reduce several steps into just a simple exercise. \n",
    "\n",
    "## Intended learning outcomes (ILOs)\n",
    "\n",
    "On completion of the lab, the student should be able to:\n",
    "\n",
    "1. Demonstrate understandings and insights in mass spectrometry\n",
    "2. Retrieve open access mass spectrometry data\n",
    "3. Access organism proteome from database \n",
    "4. Identify the relevant issues of complexity in high-throughput data structure from mass spectrometry\n",
    "5. Demonstrate capacity to store and handle high throughput data with efficiency "
   ]
  },
  {
   "cell_type": "markdown",
   "metadata": {},
   "source": [
    "## Let's start! \n",
    "\n",
    "We have created a simple exercise for you on <https://github.com/thanadol-git/bc_25>. Please try to follow it along with answering the questions here. The teachers will try to help you in the class so don't worry if it looks a bit difficult. We are always here to help. \n",
    "\n",
    "You may learn a bit about mass spectrometry from Fredrik. Now, we are touching a real dataset. First look at the SDRF file. Here is the [link](https://www.cell.com/cancer-cell/fulltext/S1535-6108(22)00274-4?_returnURL=https%3A%2F%2Flinkinghub.elsevier.com%2Fretrieve%2Fpii%2FS1535610822002744%3Fshowall%3Dtrue) to the main article.\n",
    "\n",
    "## Q1. \n",
    "**What do you see in the SDRF file? How many samples are there?** \n",
    "\n",
    "Ans.\n",
    "\n",
    "## Q2.\n",
    "**What is PRIDE accession ID for this dataset? Summarise the experiment in a short paragraph (<100 words).**\n",
    "\n",
    "Ans. \n",
    "\n",
    "## Q3. \n",
    "**What samples were used and located in the organism/s in this experiment?**\n",
    "\n",
    "Ans.\n",
    "\n",
    "## Q4.\n",
    "**What is the model of the instrument? What is its set-up? Is it labelled or labelled-free quantification?**\n",
    "\n",
    "Ans. \n"
   ]
  },
  {
   "cell_type": "code",
   "execution_count": 1,
   "metadata": {},
   "outputs": [],
   "source": [
    "# libraries \n",
    "import numpy as np\n",
    "import pandas as pd\n",
    "# matplotlib\n",
    "import matplotlib.pyplot as plt\n",
    "# seaborn\n",
    "import seaborn as sns\n",
    "# sklearn"
   ]
  },
  {
   "cell_type": "code",
   "execution_count": 33,
   "metadata": {},
   "outputs": [],
   "source": [
    "# Download the results \n",
    "\n",
    "## SDRF\n",
    "sdrf = pd.read_csv('cell_metadata_scbc25.sdrf.tsv', sep='\\t')\n",
    "## DIANN report\n",
    "diann_report = pd.read_csv('diannsummary/diann_report.unique_genes_matrix.tsv', sep='\\t')\n"
   ]
  },
  {
   "cell_type": "markdown",
   "metadata": {},
   "source": [
    "## Q5. \n",
    "**What do you see in the report file? What are the columns and the rows** \n",
    "\n"
   ]
  },
  {
   "cell_type": "code",
   "execution_count": 34,
   "metadata": {},
   "outputs": [
    {
     "data": {
      "application/vnd.microsoft.datawrangler.viewer.v0+json": {
       "columns": [
        {
         "name": "index",
         "rawType": "int64",
         "type": "integer"
        },
        {
         "name": "Genes",
         "rawType": "object",
         "type": "string"
        },
        {
         "name": "Samples",
         "rawType": "object",
         "type": "string"
        },
        {
         "name": "Intensity",
         "rawType": "float64",
         "type": "float"
        }
       ],
       "ref": "54b56405-5252-41c2-a43e-f6871e3f95af",
       "rows": [
        [
         "0",
         "A2M",
         "190529_5510_007ZV_00BL5_M03_S_1.mzML",
         null
        ],
        [
         "1",
         "AAAS",
         "190529_5510_007ZV_00BL5_M03_S_1.mzML",
         null
        ],
        [
         "2",
         "AACS",
         "190529_5510_007ZV_00BL5_M03_S_1.mzML",
         "642.702"
        ],
        [
         "3",
         "AAGAB",
         "190529_5510_007ZV_00BL5_M03_S_1.mzML",
         null
        ],
        [
         "4",
         "AAK1",
         "190529_5510_007ZV_00BL5_M03_S_1.mzML",
         null
        ]
       ],
       "shape": {
        "columns": 3,
        "rows": 5
       }
      },
      "text/html": [
       "<div>\n",
       "<style scoped>\n",
       "    .dataframe tbody tr th:only-of-type {\n",
       "        vertical-align: middle;\n",
       "    }\n",
       "\n",
       "    .dataframe tbody tr th {\n",
       "        vertical-align: top;\n",
       "    }\n",
       "\n",
       "    .dataframe thead th {\n",
       "        text-align: right;\n",
       "    }\n",
       "</style>\n",
       "<table border=\"1\" class=\"dataframe\">\n",
       "  <thead>\n",
       "    <tr style=\"text-align: right;\">\n",
       "      <th></th>\n",
       "      <th>Genes</th>\n",
       "      <th>Samples</th>\n",
       "      <th>Intensity</th>\n",
       "    </tr>\n",
       "  </thead>\n",
       "  <tbody>\n",
       "    <tr>\n",
       "      <th>0</th>\n",
       "      <td>A2M</td>\n",
       "      <td>190529_5510_007ZV_00BL5_M03_S_1.mzML</td>\n",
       "      <td>NaN</td>\n",
       "    </tr>\n",
       "    <tr>\n",
       "      <th>1</th>\n",
       "      <td>AAAS</td>\n",
       "      <td>190529_5510_007ZV_00BL5_M03_S_1.mzML</td>\n",
       "      <td>NaN</td>\n",
       "    </tr>\n",
       "    <tr>\n",
       "      <th>2</th>\n",
       "      <td>AACS</td>\n",
       "      <td>190529_5510_007ZV_00BL5_M03_S_1.mzML</td>\n",
       "      <td>642.702</td>\n",
       "    </tr>\n",
       "    <tr>\n",
       "      <th>3</th>\n",
       "      <td>AAGAB</td>\n",
       "      <td>190529_5510_007ZV_00BL5_M03_S_1.mzML</td>\n",
       "      <td>NaN</td>\n",
       "    </tr>\n",
       "    <tr>\n",
       "      <th>4</th>\n",
       "      <td>AAK1</td>\n",
       "      <td>190529_5510_007ZV_00BL5_M03_S_1.mzML</td>\n",
       "      <td>NaN</td>\n",
       "    </tr>\n",
       "  </tbody>\n",
       "</table>\n",
       "</div>"
      ],
      "text/plain": [
       "   Genes                               Samples  Intensity\n",
       "0    A2M  190529_5510_007ZV_00BL5_M03_S_1.mzML        NaN\n",
       "1   AAAS  190529_5510_007ZV_00BL5_M03_S_1.mzML        NaN\n",
       "2   AACS  190529_5510_007ZV_00BL5_M03_S_1.mzML    642.702\n",
       "3  AAGAB  190529_5510_007ZV_00BL5_M03_S_1.mzML        NaN\n",
       "4   AAK1  190529_5510_007ZV_00BL5_M03_S_1.mzML        NaN"
      ]
     },
     "execution_count": 34,
     "metadata": {},
     "output_type": "execute_result"
    }
   ],
   "source": [
    "# Dynamic range\n",
    "\n",
    "# pivot longer of all column  except Genes as `samples`\n",
    "diann_report_long = diann_report.melt(id_vars=['Genes'], var_name='Samples', value_name='Intensity')\n",
    "\n",
    "diann_report_long.head()"
   ]
  },
  {
   "cell_type": "code",
   "execution_count": 35,
   "metadata": {},
   "outputs": [
    {
     "name": "stdout",
     "output_type": "stream",
     "text": [
      "Number of samples: 61\n"
     ]
    }
   ],
   "source": [
    "n_samples = diann_report_long['Samples'].nunique()\n",
    "# print \n",
    "print(f'Number of samples: {n_samples}')"
   ]
  },
  {
   "cell_type": "code",
   "execution_count": 36,
   "metadata": {},
   "outputs": [
    {
     "data": {
      "application/vnd.microsoft.datawrangler.viewer.v0+json": {
       "columns": [
        {
         "name": "index",
         "rawType": "int64",
         "type": "integer"
        },
        {
         "name": "Genes",
         "rawType": "object",
         "type": "string"
        },
        {
         "name": "Missing",
         "rawType": "int64",
         "type": "integer"
        },
        {
         "name": "Percentage",
         "rawType": "float64",
         "type": "float"
        }
       ],
       "ref": "0bdad3de-6fc3-44a2-8bfc-aa70bf3a5bad",
       "rows": [
        [
         "0",
         "SPANXB1",
         "60",
         "98.36065573770492"
        ],
        [
         "1",
         "SAA1",
         "60",
         "98.36065573770492"
        ],
        [
         "2",
         "MGAM",
         "60",
         "98.36065573770492"
        ],
        [
         "3",
         "CALML5",
         "60",
         "98.36065573770492"
        ],
        [
         "4",
         "COCH",
         "60",
         "98.36065573770492"
        ]
       ],
       "shape": {
        "columns": 3,
        "rows": 5
       }
      },
      "text/html": [
       "<div>\n",
       "<style scoped>\n",
       "    .dataframe tbody tr th:only-of-type {\n",
       "        vertical-align: middle;\n",
       "    }\n",
       "\n",
       "    .dataframe tbody tr th {\n",
       "        vertical-align: top;\n",
       "    }\n",
       "\n",
       "    .dataframe thead th {\n",
       "        text-align: right;\n",
       "    }\n",
       "</style>\n",
       "<table border=\"1\" class=\"dataframe\">\n",
       "  <thead>\n",
       "    <tr style=\"text-align: right;\">\n",
       "      <th></th>\n",
       "      <th>Genes</th>\n",
       "      <th>Missing</th>\n",
       "      <th>Percentage</th>\n",
       "    </tr>\n",
       "  </thead>\n",
       "  <tbody>\n",
       "    <tr>\n",
       "      <th>0</th>\n",
       "      <td>SPANXB1</td>\n",
       "      <td>60</td>\n",
       "      <td>98.360656</td>\n",
       "    </tr>\n",
       "    <tr>\n",
       "      <th>1</th>\n",
       "      <td>SAA1</td>\n",
       "      <td>60</td>\n",
       "      <td>98.360656</td>\n",
       "    </tr>\n",
       "    <tr>\n",
       "      <th>2</th>\n",
       "      <td>MGAM</td>\n",
       "      <td>60</td>\n",
       "      <td>98.360656</td>\n",
       "    </tr>\n",
       "    <tr>\n",
       "      <th>3</th>\n",
       "      <td>CALML5</td>\n",
       "      <td>60</td>\n",
       "      <td>98.360656</td>\n",
       "    </tr>\n",
       "    <tr>\n",
       "      <th>4</th>\n",
       "      <td>COCH</td>\n",
       "      <td>60</td>\n",
       "      <td>98.360656</td>\n",
       "    </tr>\n",
       "  </tbody>\n",
       "</table>\n",
       "</div>"
      ],
      "text/plain": [
       "     Genes  Missing  Percentage\n",
       "0  SPANXB1       60   98.360656\n",
       "1     SAA1       60   98.360656\n",
       "2     MGAM       60   98.360656\n",
       "3   CALML5       60   98.360656\n",
       "4     COCH       60   98.360656"
      ]
     },
     "execution_count": 36,
     "metadata": {},
     "output_type": "execute_result"
    }
   ],
   "source": [
    "# Count missing values for each genes\n",
    "missing_values = diann_report_long.groupby('Genes')['Intensity'].apply(lambda x: x.isna().sum()).reset_index()\n",
    "# rename Intensity to Missing\n",
    "missing_values.rename(columns={'Intensity': 'Missing'}, inplace=True)\n",
    "# remove Missing is zero\n",
    "# missing_values = missing_values[missing_values['Missing'] > 0]\n",
    "# sort by Missing   \n",
    "missing_values.sort_values(by='Missing', ascending=False, inplace=True)\n",
    "# reset index\n",
    "missing_values.reset_index(drop=True, inplace=True)\n",
    "\n",
    "# Calculate percentage of missing values\n",
    "missing_values['Percentage'] = (missing_values['Missing'] / n_samples) * 100\n",
    "\n",
    "missing_values.head()\n"
   ]
  },
  {
   "cell_type": "markdown",
   "metadata": {},
   "source": [
    "## Q6. \n",
    "**How many genes that are always being detected in this experiment?** \n"
   ]
  },
  {
   "cell_type": "code",
   "execution_count": null,
   "metadata": {},
   "outputs": [
    {
     "name": "stdout",
     "output_type": "stream",
     "text": [
      "['SURF1', 'CYBRD1', 'RPE', 'TNKS', 'SRXN1', 'PHF2', 'DHRS1', 'GLIPR2', 'CDCA5', 'CRYBG1', 'ATXN2', 'TTYH3', 'PLGRKT', 'SERPINB1', 'NFATC2IP', 'DHTKD1', 'RFTN1', 'RAB11FIP5', 'TPM2', 'IGF2BP1', 'PTPRJ', 'GNB4', 'SEC24D', 'MEF2B', 'PDLIM2', 'NFKB1', 'STX17', 'ERAP2', 'PLIN2', 'KIF20A', 'F5', 'ANKHD1', 'TMEM126B', 'ZNF787', 'DCAF8', 'AAMP', 'EFL1', 'GCA', 'HIP1', 'LPCAT2', 'PTDSS2', 'FAM20B', 'LRRK1', 'ARL6IP4', 'RPS6KA3', 'LRRC34', 'CRAT', 'P3H3', 'CUSTOS', 'EIF2D', 'TGM2', 'DHX33', 'QPRT', 'NOM1', 'MFN1', 'PDSS2', 'SFN', 'ARHGDIB', 'PSMG2', 'GTF3C4', 'PDZD11', 'NOL3', 'UMODL1', 'SLC4A2', 'TRMT2A', 'TRMT6', 'RELL1', 'PRXL2A', 'SUDS3', 'SKIC2', 'SLC39A14', 'MEAK7', 'CCDC9', 'FILIP1L', 'MPHOSPH6', 'DCUN1D1', 'PHLDB1', 'MGST1', 'TMEM192', 'LUC7L', 'BTN3A3', 'TMEM33', 'CLASP1', 'PCCA', 'UBE2R2', 'ACAP2', 'APIP', 'DHRS7B', 'EHD2', 'VMA21', 'HMGA2', 'ZFAND1', 'LYPLAL1', 'PATL1', 'AP1M1', 'SMN1', 'KAT7', 'MYO6', 'COL4A2', 'SAP30', 'SMARCA1', 'NAGLU', 'EIPR1', 'LRRC8A', 'VPS72', 'CD276', 'MAN2A1', 'MED6', 'HSPG2', 'BDH2', 'SHTN1', 'ASB7', 'UBQLN4', 'MED24', 'HLTF', 'STX10', 'ACAD8', 'WDHD1', 'UXS1', 'RBM5', 'PYURF', 'NFYB', 'WAPL', 'HOMER3', 'UACA', 'FDX2', 'HS2ST1', 'RAC2', 'HS1BP3', 'ACOT8', 'DNAJB2', 'BAIAP2L1', 'YAP1', 'RNF126', 'SZRD1', 'FNBP4', 'JUP', 'GLT8D1', 'SMPD4', 'RPF1', 'SDAD1', 'PARVA', 'COPS7B', 'COQ8B', 'CDCP1', 'ALG13', 'NT5DC2', 'LSR', 'NUBP1', 'KRT7', 'CENPB', 'LAMA2', 'TMA16', 'SCFD2', 'CEBPB', 'DUSP23', 'C1orf122', 'LEO1', 'AAGAB', 'TIMM21', 'SYNM', 'GMPR2', 'SYNGR2', 'SVIL', 'TTC4', 'NKD2', 'GPT2', 'ASS1', 'GPD1L', 'NMD3', 'CATSPER3', 'MCEE', 'ERC1', 'NOL9', 'CWC22', 'RIPOR1', 'PTTG1IP', 'ISG15', 'TRANK1', 'MARK2', 'RNF181', 'CABP7', 'DMAC2L', 'TSSC4', 'RCOR1', 'USP9X', 'EMC6', 'ACTR10', 'TUBB2A', 'TIGAR', 'STAU2', 'DECR2', 'IBA57', 'ANK2', 'ARFIP2', 'TOR1B', 'MANBAL', 'UBE2C', 'TXNDC9', 'CKB', 'PDPR', 'CTSL', 'CXorf38', 'MCAT', 'ELMOD2', 'CMTR1', 'PDF', 'MGAT2', 'UCHL1', 'BPY2', 'NT5E', 'UBXN7', 'HRAS', 'ACSF3', 'MRPL3', 'CHMP5', 'CENPC', 'RAB32', 'VKORC1L1', 'FBLL1', 'SLC25A22', 'SH3KBP1', 'ABI2', 'PTCD1', 'PPP6R1', 'NBN', 'XPOT', 'RAB11FIP1', 'SHC1', 'CHD3', 'GPC1', 'ZNF185', 'PPM1A', 'HDGFL3', 'ACSF2', 'STAM2', 'USP11', 'HOOK3', 'SCAF8', 'DCTD', 'NOTCH2', 'GYS1', 'CCDC134', 'MRPL32', 'POLR2D', 'MAPK13', 'PDCD2L', 'FAR1', 'ZNRF2', 'CUL4B', 'MYL6B', 'STAMBP', 'MAX', 'NUSAP1', 'CBR3', 'SPESP1', 'SPART', 'SAMHD1', 'DIMT1', 'SEPTIN10', 'NCBP2AS2', 'PIR', 'RGS10', 'INTS14', 'RBM33', 'SORT1', 'SPRYD7', 'PPP4R2', 'DNM3', 'UBE2H', 'STAG1', 'TAX1BP3', 'TBC1D5', 'LTV1', 'RPS27L', 'CDK5', 'SLMAP', 'TERF2', 'SCO2', 'PMM2', 'RWDD1', 'AAK1', 'ANKFY1', 'KYAT3', 'L1CAM', 'TEX10', 'ZNF512', 'USP15', 'TMA7', 'RPP38', 'RNF214', 'FOXRED1', 'PTP4A1', 'TNS3', 'ANKLE2', 'NSUN4', 'SLC30A1', 'CHAF1A', 'NCAPG', 'RETSAT', 'PFKM', 'SDC4', 'TMEM126A', 'SKIC3', 'JPH1', 'PPP4R1', 'MTA3', 'AGTRAP', 'AQR', 'TSR1', 'WDR70', 'FKBP11', 'EGFR', 'MT-ATP8', 'GIT1', 'PRNP', 'NAPRT', 'CDKN2AIPNL', 'SMAP2', 'CRBN', 'TKFC', 'EPPK1', 'ITGB4', 'EPS8L2', 'DDX28', 'YIPF6', 'ATPAF1', 'TM9SF1', 'AIDA', 'MBD1', 'DPYSL3', 'CSRP2', 'SUZ12', 'UBE2T', 'PIN4', 'UBE2G2', 'NELFCD', 'STK26', 'PNISR', 'RAB34', 'MRPL20', 'BCS1L', 'ACY1', 'CCDC167', 'SFSWAP', 'PPIL3', 'USP8', 'DDX51', 'PPFIBP1', 'QTRT2', 'STMN2', 'ARL6IP6', 'DERL1', 'VAMP5', 'NHLRC2', 'GUSB', 'TXNDC15', 'ARFGAP3', 'SOAT1', 'KRT2', 'PPP2R2A', 'BABAM1', 'ATRX', 'NPC1', 'CDH2', 'PEX5', 'NQO1', 'PM20D2', 'DBR1', 'ACYP1', 'HPCAL1', 'WARS2', 'CFAP337', 'PROCR', 'KIF2C', 'EPHA2', 'MICOS13', 'NRDC', 'ABCC1', 'NRF1', 'DNAJC13', 'STXBP1', 'EXOC1', 'DSG2', 'EXOC2', 'WDR26', 'CD9', 'EXOC3', 'MAP2K1', 'LMAN2L', 'C11orf54', 'YES1', 'AURKB', 'CWC27', 'HEATR3', 'MED30', 'LIMCH1', 'SUMF1', 'B4GALT1', 'LRRFIP2', 'SGPL1', 'BUD23', 'FHOD1', 'TFB2M', 'PPP1R13L', 'BICD2', 'POMP', 'RSL24D1', 'EXOC7', 'PNO1', 'RRP36', 'NCK1', 'PCYT1B', 'CCT6B', 'MAK16', 'YIPF4', 'MTCH1', 'PCYT1A', 'RNASET2', 'MAP1B', 'FKBP10', 'SLC25A4', 'TES', 'NVL', 'PSME3IP1', 'GBF1', 'NUDCD3', 'FAM177A1', 'DERA', 'CAB39', 'OSBPL9', 'ZNF622', 'OVCA2', 'CCDC71', 'GEMIN8', 'LRWD1', 'DCAF7', 'KDSR', 'ACTA1', 'PACSIN3', 'TMEM199', 'SMAP', 'TBCD', 'KLC2', 'TATDN1', 'CEP295NL', 'CCDC43', 'CANT1', 'KIAA1143', 'DAXX', 'PTPMT1', 'TPRKB', 'SAR1B', 'BRD10', 'PHAX', 'ME1', 'FHL2', 'STXBP2', 'PPP6R3', 'CTNNA2', 'SELENOS', 'MGAT1', 'ARMC8', 'REEP6', 'IRF2BPL', 'AGRN', 'PYGL', 'SHMT1', 'REPS1', 'ISYNA1', 'REXO4', 'DNAAF5', 'DNAJB12', 'SERF2', 'MFGE8', 'MED15', 'PTRHD1', 'CASP7', 'NIPSNAP3A', 'PPOX', 'GOSR1', 'CAMK2D', 'PIP4K2A', 'HSPA2', 'AKAP12', 'STAG2', 'GFM2', 'PTGFRN', 'FYTTD1', 'PPIC', 'BLOC1S1', 'BDH1', 'CORO7', 'PAK4', 'IL18R1', 'ZNF598', 'DHCR24', 'SPECC1', 'CMSS1', 'ZW10', 'RABAC1', 'SLC35B2', 'STAT3', 'SCARB1', 'LCP1', 'EDC3', 'GAK', 'PODXL', 'BCAM', 'EXD2', 'IFT27', 'DDAH1', 'GABPA', 'ABT1', 'GABARAPL2', 'ANK3', 'MIEN1', 'LACTB', 'BLMH', 'SLC1A4', 'RBBP5', 'IPO9', 'SS18', 'RPF2', 'SRSF4', 'UBA5', 'PKN2', 'SDHAF2', 'SEC61A1', 'ZDHHC5', 'ITGA5', 'ATP2C1', 'RAI14', 'MAP1S', 'TNC', 'TAP2', 'ACOX1', 'NDUFA8', 'GOLGA7', 'BAD', 'ISOC1', 'SMIM20', 'PRORP', 'SORBS2', 'TNNI3', 'RPIA', 'KANK2', 'APPL1', 'UBAC2', 'DNAJC10', 'DNAJC1', 'WFS1', 'EDN3', 'FKBP5', 'MMP14', 'CGGBP1', 'UCK2', 'TFCP2', 'EARS2', 'RNASEH2A', 'RNF114', 'HEBP2', 'TIMM22', 'GRAMD1C', 'SPATS2L', 'MOCS2', 'PXN', 'AK6', 'MRPL16', 'HDHD3', 'YTHDF3', 'NUDT3', 'POLE4', 'ATP2B4', 'GTPBP8', 'PGM5', 'DPM1', 'FASTKD5', 'PALLD', 'PEX19', 'TRIOBP', 'CYFIP1', 'MCAM', 'FUT8', 'DHFR', 'TDRKH', 'KRT19', 'PPP4R3A', 'VAMP3', 'SDC1', 'SLK', 'APOL4', 'PRPSAP2', 'CAVIN1', 'DNPEP', 'AHCYL1', 'GOLT1B', 'IGSF8', 'TRAV30', 'STK4', 'CYP51A1', 'ALDH2', 'ATAD2', 'MRPL57', 'NDUFAF7', 'NOL11', 'CUL2', 'MBD3', 'LRP1', 'DERPC', 'MVD', 'SP100', 'NCOR2', 'MCRIP1', 'MRPS30', 'TFB1M', 'ASPSCR1', 'BST2', 'SLC39A10', 'PPP2R5D', 'RBM6', 'C8orf33', 'GSDMD', 'OSGEP', 'FN3KRP', 'ZNF428', 'L2HGDH', 'PAAF1', 'AGA', 'ESF1', 'CAV1', 'COX19', 'ERMP1', 'CDK9', 'PYCR3', 'GHDC', 'INPPL1', 'GINS3', 'ENOPH1', 'GLA', 'GNPDA1', 'PAWR', 'FNDC3B', 'PDCL3', 'PAXX', 'PBK', 'PRCC', 'TNPO3', 'LAS1L', 'TOM1L2', 'ADAM9', 'RBM19', 'VAMP8', 'POLD3', 'LDLR', 'FAM114A2', 'CCDC12', 'ACO1', 'RAB3GAP1', 'GATB', 'PLS1', 'SAMD1', 'POLR1F', 'HSD17B8', 'HAT1', 'FAM50A', 'BRINP2', 'EPS15', 'SLC16A1', 'DDX41', 'TRIM33', 'VAMP7', 'GTF2A2', 'ENDOG', 'CD58', 'SEC24A', 'COL6A3', 'MPHOSPH8', 'PDCD4', 'RNF20', 'SEC23B', 'PCYT2', 'SLC25A11', 'RHEB', 'HEXIM1', 'PEX11B', 'ADH7', 'MEPCE', 'ADISSP', 'MEMO1', 'ASAH1', 'TUBB2B', 'NIPBL', 'PPL', 'IAH1', 'RCL1', 'ICAM1', 'SIPA1', 'UBR7', 'CCDC90B', 'BPHL', 'HMGCS1', 'ARMC10', 'GPX8', 'POLR2K', 'TRIP13', 'PPM1F', 'NOC4L', 'HIP1R', 'SRPK1', 'SAP130', 'PGP', 'MRI1', 'GINS4', 'CENPV', 'NUMB', 'KIF4A', 'LLGL1', 'DST', 'CRIP2', 'RRAS', 'SCAF1', 'EI24', 'S100A16', 'RTF2', 'LSM14A', 'TMTC3', 'CFL2', 'LAMB1', 'SLC7A1', 'LCLAT1', 'NSA2', 'PSMD10', 'LMF2', 'TBCE', 'MYO1B', 'DYNLT1', 'NEK9', 'UQCR10', 'SCART1', 'TRIP10', 'ADI1', 'HIGD2A', 'NUDT19', 'ADAM17', 'STK24', 'FAH', 'ERLEC1', 'SREK1', 'TMEM263', 'TMEM11', 'NLE1', 'CNN3', 'TSPAN3', 'IDI1', 'GBE1', 'STX8', 'COX7A2L', 'UBQLN2', 'LANCL1', 'PTK2', 'DHX37', 'PLCB3', 'KIF11', 'XYLT1', 'SAAL1', 'CERT1', 'PIP4K2C', 'MTAP', 'ARPC1A', 'CD81', 'POLR1A', 'ABCF3', 'SDCBP', 'HSP90AB4P', 'THBS1', 'TIMM29', 'SEC11A', 'ECE1', 'GNA11', 'ARID1A', 'NACC1', 'NDUFB6', 'GOSR2', 'ATP6V1D', 'ISCA2', 'CD109', 'ISCU', 'ACSL1', 'TRAPPC1', 'DNAJC17', 'ISY1', 'GOLPH3', 'HERC2', 'MORF4L1', 'SYNE2', 'SLC34A2', 'SIL1', 'THEM6', 'PPFIA1', 'CUL3', 'CCDC22', 'UBAP2', 'UBE4A', 'STX6', 'PPAN', 'USP36', 'MPZL1', 'STAM', 'BCKDHB', 'UTP3', 'ARL1', 'C1D', 'SRPK2', 'NUP160', 'MRPL30', 'THOC5', 'NELFA', 'OFD1', 'CREB1', 'NEMF', 'HMBS', 'DHODH', 'SRP19', 'LIG1', 'SNAPIN', 'ALG5', 'PRPS1', 'RETREG3', 'CYB5R1', 'MRPS15', 'BAIAP2', 'TECR', 'CDK2', 'OGFR', 'COG5', 'GLE1', 'COASY', 'KRI1', 'SLC27A4', 'TBCC', 'MRPS25', 'PDXP', 'EPHX1', 'CEP170', 'PPP2R5E', 'ARF5', 'NUBP2', 'ENO2', 'COX20', 'GNAQ', 'DDX20', 'YIPF5', 'SPRYD4', 'PIGT', 'KCMF1', 'NIBAN1', 'WBP2', 'GSK3B', 'ITPRID2', 'ANLN', 'DPF2', 'RCC1L', 'PHF14', 'IGBP1', 'ETFDH', 'FLNC', 'TPBG', 'ABHD6', 'SSU72', 'FLYWCH2', 'VKORC1', 'NDUFB5', 'ATP6V1F', 'WDR55', 'PUM1', 'MRPL33', 'GCC2', 'GTF2B', 'CDKAL1', 'ARMCX3', 'DDAH2', 'WDR3', 'AARSD1', 'FTO', 'RAB15', 'NDRG1', 'MRPS11', 'SH3GLB2', 'PSME4', 'PPP1R10', 'MTA1', 'SF3B5', 'HDAC2', 'RBM7', 'HTATIP2', 'CTR9', 'SUPV3L1', 'PFKL', 'NOL10', 'AK1', 'HDDC2', 'APP', 'AKAP8L', 'RPAP3', 'DOHH', 'PCBP3', 'PCBD1', 'KIF22', 'TASOR', 'SCRN1', 'CAMKV', 'LUZP1', 'KPNA1', 'TMEM245', 'ALMS1', 'AP1S1', 'KRT18', 'C8orf82', 'LPP', 'TJP1', 'SCAF11', 'THUMPD1', 'C11orf68', 'STX18', 'COA6', 'NEU1', 'TUBGCP2', 'MMTAG2', 'PNPLA6', 'HM13', 'CCDC51', 'DHPS', 'CAPG', 'RAB23', 'TBC1D15', 'PNPO', 'LYPLA2', 'ZC3H13', 'COMMD3', 'HLA-B', 'CHMP2B', 'TAP1', 'TOR1A', 'MRPL2', 'APOL2', 'PREP', 'PCCB', 'RPP25L', 'WASL', 'SYPL1', 'PALM2AKAP2', 'BET1', 'POLD2', 'UTP15', 'NUDT9', 'SLC4A1AP', 'CEBPZ', 'VPS25', 'DUSP3', 'S100A10', 'ARL2', 'LAMC1', 'EFCAB5', 'EHMT1', 'SLX9', 'NDUFB3', 'POGLUT1', 'MMGT1', 'APOOL', 'PCYOX1', 'INTS13', 'GPATCH4', 'IFI16', 'CBX8', 'TTN', 'RAP2B', 'QTRT1', 'TRIP11', 'CNOT2', 'EMG1', 'CTDSPL2', 'RALYL', 'GPHN', 'PVR', 'FLAD1', 'SPC24', 'CASP3', 'SPIN1', 'XPO5', 'ENDOD1', 'ITGA3', 'NHERF2', 'MAPK14', 'GOLGA5', 'GOLIM4', 'SWAP70', 'ADK', 'ADPGK', 'NCBP2', 'COA7', 'BID', 'CHID1', 'NUP210', 'BASP1', 'PPIL4', 'RBMXL1', 'NUDCD1', 'POGLUT3', 'CHMP1B', 'RRM2', 'RELA', 'CALD1', 'POLR2F', 'SEPTIN1', 'RFC5', 'PTK7', 'COPS7A', 'PUS7', 'CIAO2A', 'PPP3CA', 'SEC61G', 'PTPRF', 'PIH1D1', 'DDX52', 'PSMB8', 'UQCRFS1', 'EXOC4', 'ITGA2', 'KIFC1', 'WDR82', 'UAP1', 'STRN3', 'MRPL37', 'MFN2', 'TIMM10', 'WNK1', 'ATOX1', 'DHRS7', 'MIA2', 'GLRX', 'GOLM2', 'ENSA', 'UBE2V2', 'LARS2', 'GMDS', 'EMC4', 'ITPR3', 'FN1', 'EXOC3L4', 'TMED2', 'HYPK', 'THOC7', 'GOLGA3', 'TST', 'AKR1E2', 'FUNDC2', 'GNL1', 'HDAC1', 'MCU', 'TRIP6', 'H2AX', 'TMEM41B', 'MTFR1L', 'DPP7', 'HSPA14', 'F11R', 'ATP2B1', 'TIMM8A', 'RRP8', 'EIF4G3', 'RPS19BP1', 'CHMP4A', 'RPRD1A', 'TMEM205', 'P4HA2', 'GOLGA4', 'OTUD6B', 'SH3BGRL', 'USE1', 'HARS2', 'PKN1', 'DNAJC2', 'AKT1S1', 'ACSL4', 'MAP2K2', 'PRCP', 'BCAT2', 'SYAP1', 'VPS45', 'GOLM1', 'CUL1', 'P3H1', 'SERPINB6', 'ACACA', 'LACTB2', 'MCMBP', 'UBE2A', 'CTNNB1', 'ARFGAP2', 'STOM', 'TOMM6', 'PBXIP1', 'ALG1', 'DHRS4', 'EXOSC1', 'NUDT1', 'POFUT1', 'COPG2', 'DNAJB4', 'CCNB1', 'UBR5', 'ANKDD1B', 'TRNT1', 'FAF1', 'SLAIN2', 'SLC12A2', 'MRPS6', 'CZIB', 'DAG1', 'PLS3', 'B3GAT3', 'FXN', 'TJP2', 'MRPS14', 'CENPF', 'ZMYND8', 'CASP6', 'PELO', 'PSAP', 'C12orf57', 'C19orf53', 'OCIAD2', 'PSMB9', 'BAG3', 'NUP85', 'RRAS2', 'SPOUT1', 'SCAF4', 'UBE2S', 'MAGT1', 'GTF3C3', 'BRD4', 'H1-0', 'RSU1', 'VRK1', 'EIF3C', 'ARFIP1', 'INCENP', 'AUP1', 'SEPHS1', 'LZIC', 'GEMIN5', 'MRPL14', 'LGALS3BP', 'TMUB1', 'UTRN', 'RBM42', 'GMPPB', 'CRTAP', 'AKAP17A', 'SDF2L1', 'RAB13', 'S100A6', 'RTF1', 'RAB27A', 'MAGED2', 'SQOR', 'OSTC', 'DNAJC19', 'ALKBH5', 'MYO18A', 'KRT10', 'ARF6', 'SLC4A7', 'CLPTM1L', 'TMEM214', 'ACBD5', 'RAP1GDS1', 'DCK', 'AHSG', 'ADGRE5', 'GNG12', 'GNPNAT1', 'PLOD2', 'EFR3A', 'DDX39A', 'NELFE', 'LAMTOR3', 'PPIG', 'PBRM1', 'BCL2L1', 'ENAH', 'TSG101', 'CHCHD6', 'RECQL', 'DSP', 'DHCR7', 'NUP58', 'CCDC177', 'EML4', 'NDUFS5', 'XPNPEP1', 'RDH14', 'ITPA', 'NECTIN2', 'CFDP1', 'MRPL9', 'UTP20', 'NKRF', 'PUS1', 'CD99', 'TERF2IP', 'TMX4', 'LSM14B', 'CPSF4', 'LSM1', 'ATP1B1', 'BLVRB', 'SLC25A10', 'WIZ', 'NDUFB8', 'MED4', 'NTMT1', 'TIMM10B', 'S100A13', 'KRT9', 'BRK1', 'CREG1', 'LNPEP', 'ECI2', 'POGZ', 'POLR1E', 'CISD1', 'RUFY1', 'EBAG9', 'HCCS', 'THOC2', 'RAP1A', 'LIMS1', 'MACROD1', 'CHMP6', 'LGALS3', 'CCDC50', 'ANXA1', 'IMPDH1', 'ARL6IP1', 'MRPL55', 'CDCA8', 'PTPN23', 'MRPS12', 'ABHD14B', 'TPM1', 'NDUFA12', 'ABI1', 'MRPS5', 'TSNAX', 'GNL2', 'COMMD2', 'MPRIP', 'RP2', 'KDM2A', 'PTPA', 'RNASEH2C', 'TUBA4A', 'ILK', 'IMPA1', 'MYEF2', 'GAPVD1', 'MTO1', 'CARS2', 'MYOF', 'PFN2', 'AKAP1', 'EPN1', 'EPB41L2', 'NAGA', 'RIOX1', 'ITGA6', 'GLB1', 'MLF2', 'GPX4', 'FKBP9', 'ALDH3A2', 'MBOAT7', 'BRI3BP', 'BPNT2', 'TUBB3', 'PAPSS1', 'MECP2', 'DCTN4', 'COPS3', 'NOP10', 'ALDH7A1', 'GTPBP1', 'NOP9', 'PPP1R9B', 'CTBP2', 'MFF', 'EIF2B4', 'SEC23IP', 'SFI1', 'CTSZ', 'TACC1', 'PAIP1', 'TMEM30A', 'AMPD2', 'RFC3', 'PDP1', 'TRMT1', 'PHPT1', 'ALDH5A1', 'ALDH6A1', 'ITGAV', 'OGT', 'PALS2', 'CNOT1', 'COPS2', 'HSPA4L', 'KIF2A', 'PIGS', 'RNF2', 'TOX4', 'AKR7A2', 'AFDN', 'KRT71', 'PI4K2A', 'RRM1', 'SLC35F6', 'VWA8', 'H3C1', 'ARHGEF1', 'GPAA1', 'MINPP1', 'MGME1', 'PPP2CA', 'PPP1R18', 'PPP1R14B', 'GPKOW', 'ZNF706', 'ZNRD2', 'MECR', 'SEPTIN8', 'ARFGAP1', 'SYMPK', 'PON2', 'MARCKS', 'NPC2', 'MOB4', 'SFXN3', 'MPG', 'NCBP3', 'GIPC1', 'SLC25A1', 'FSCN1', 'CEPT1', 'SLC12A9', 'SORD', 'GM2A', 'MRPS18C', 'CDKN2AIP', 'ATP5MF', 'MRPL34', 'NAA10', 'MRPL22', 'CHAF1B', 'PRAF2', 'PQBP1', 'NRBP1', 'NAGK', 'DCAF13', 'ACP2', 'RABL6', 'DYNLRB1', 'DCPS', 'THOC1', 'CCS', 'GATC', 'POLE3', 'CCDC6', 'HMG20A', 'CSNK1A1', 'RAB33B', 'CSK', 'PPP5C', 'CD59', 'NDUFS4', 'RNMT', 'ATP6V0A1', 'MRGBP', 'ERBIN', 'THOC3', 'RABIF', 'BCKDHA', 'OSTF1', 'XAB2', 'WRNIP1', 'PLCH1', 'NRAS', 'THOP1', 'UQCC2', 'CD151', 'TSPYL1', 'DAD1', 'PRMT5', 'YTHDF2', 'FABP5', 'TK1', 'ABHD12', 'EMC10', 'LARP4B', 'ASH2L', 'SPR', 'AMFR', 'UBE2O', 'GDI1', 'ECHDC1', 'OSBP', 'MIEF1', 'KRT8', 'PNP', 'ERAL1', 'TRUB1', 'ERAP1', 'SUN1', 'CTNNA1', 'VTI1B', 'LYRM4', 'AP3S1', 'ACBD3', 'MAPK3', 'APOE', 'RBM27', 'HMGCL', 'CHMP3', 'RPS27A', 'SEL1L', 'CARHSP1', 'CTSA', 'FAM98A', 'CD2AP', 'AK4', 'PSAT1', 'FDFT1', 'EIF1', 'OGA', 'RING1', 'MAP7D1', 'NIN', 'WDR33', 'CD44', 'TBL1XR1', 'NIT1', 'PIN1', 'UBLCP1', 'EXOSC8', 'GFUS', 'TRIP12', 'IKBIP', 'IMP4', 'ERLIN1', 'GBA1', 'ILKAP', 'GGCT', 'PSMF1', 'ILVBL', 'REXO2', 'PLOD1', 'TUBB8', 'FRG1', 'TSFM', 'CIAPIN1', 'CLCC1', 'RABL3', 'CIAO1', 'HEBP1', 'CLNS1A', 'ADD1', 'H3C15', 'RBM26', 'PITPNB', 'PPAT', 'GTF3C1', 'TXLNA', 'GSTP1', 'FKBP1A', 'ADNP', 'GPX1', 'PIGK', 'IDE', 'IGF2BP2', 'RDH11', 'YBX3', 'GLG1', 'RAB3GAP2', 'RPL37A', 'ZYX', 'RPL7L1', 'SUMO1', 'NIF3L1', 'PAFAH1B1', 'RPS15', 'KLC1', 'MIPEP', 'NUFIP2', 'CWC15', 'KDM1A', 'MPHOSPH10', 'AAAS', 'MRPL21', 'PC', 'BCCIP', 'ASNS', 'EIF4A2', 'NOC3L', 'OVCH2', 'MCCC1', 'TM9SF4', 'CRK', 'AP2A2', 'AP3B1', 'AP3D1', 'CPT2', 'AHNAK2', 'TIMM8B', 'TACO1', 'NPTN', 'TIMMDC1', 'SEC63', 'CPD', 'OS9', 'MBD2', 'MBNL1', 'NDRG3', 'DFFA', 'MRRF', 'AKAP8', 'NADK2', 'COIL', 'ATXN10', 'SNX5', 'ATP6V1C1', 'MUC16', 'RIF1', 'CNPY3', 'DDI2', 'NAE1', 'NCAPD2', 'NCAPH', 'PDLIM1', 'ERGIC1', 'NCEH1', 'RNF40', 'SPAG9', 'PCM1', 'ANXA4', 'AATF', 'HK2', 'ZMPSTE24', 'MAVS', 'SELENOH', 'VPS29', 'NOP53', 'ZNF641', 'DDX10', 'AP1G1', 'SEC24C', 'GATAD2B', 'NUDCD2', 'CHORDC1', 'ZPR1', 'DRG1', 'DPYSL2', 'SCPEP1', 'FAM98B', 'MRPS17', 'SUMO2', 'SNTB2', 'ABCB4', 'CDC40', 'GNA13', 'PRKAA1', 'MRPS26', 'SRSF2', 'ATAD3B', 'GOPC', 'ABCF2', 'CUX1', 'DHX16', 'PUM3', 'ARHGAP17', 'STRN', 'NGDN', 'STT3A', 'ATP13A1', 'GPD2', 'PWP2', 'PPME1', 'STX5', 'ACADSB', 'QDPR', 'GTF2F2', 'PRP4K', 'ATAD1', 'NOB1', 'SLC25A12', 'DYNC1LI2', 'RAB35', 'PITHD1', 'LEMD3', 'AGK', 'RMDN1', 'C19orf25', 'TRABD', 'PDE12', 'CAPN2', 'ADSL', 'LARP4', 'PHIP', 'LAMTOR2', 'RTN3', 'UBA3', 'ALCAM', 'EXOSC5', 'KHK', 'RTCA', 'ALDH4A1', 'TWF1', 'COPS5', 'HSPA13', 'EHD4', 'HSD17B12', 'RPRD2', 'CBFB', 'ELAC2', 'IRGQ', 'PFAS', 'EPS15L1', 'NUP188', 'THYN1', 'PLXNB2', 'PEF1', 'RHOC', 'PDS5B', 'PDS5A', 'PDLIM5', 'PDXK', 'SAP30BP', 'TRMT10C', 'SCAMP2', 'SH3GL1', 'CC2D1A', 'NDUFAF4', 'MRPL10', 'NDUFB7', 'PBDC1', 'STIM1', 'CLUH', 'ARL3', 'BAZ1A', 'TMX2', 'RPL36A', 'COPS6', 'MYO1C', 'PURA', 'MYH10', 'TXNRD2', 'STRBP', 'NDUFA9', 'CARS1', 'BAP18', 'EIF3M', 'PGM1', 'GIGYF2', 'PDLIM7', 'SNX1', 'SNX12', 'SLC25A24', 'SMS', 'NAA50', 'ATL2', 'PRMT1', 'PTMS', 'MRPS33', 'PNKP', 'TOR1AIP2', 'RNPEP', 'SKIC8', 'GAA', 'PSPH', 'RBX1', 'ADPRS', 'GALK1', 'TOMM34', 'SMARCB1', 'PPP1R8', 'PMVK', 'KPNA6', 'TMCO1', 'OSBPL8', 'NOP14', 'NOP16', 'SELENOF', 'ECPAS', 'BLVRA', 'TIPRL', 'NOSIP', 'MAIP1', 'CSRP1', 'NYX', 'HAX1', 'DNPH1', 'SDF4', 'UCHL3', 'SACM1L', 'SAR1A', 'LSG1', 'NUP37', 'LRRC40', 'SCCPDH', 'SBDS', 'UTP14A', 'FAM3C', 'CHRAC1', 'ANXA6', 'HGH1', 'UROD', 'LMO7', 'VPS4B', 'INF2', 'OXCT1', 'STXBP3', 'BNIP1', 'STX16', 'WDR5', 'RSF1', 'METAP2', 'DLG1', 'PPID', 'STT3B', 'NIPSNAP1', 'GTF2F1', 'SUGP2', 'WDR46', 'RBBP7', 'ACAA2', 'CTNND1', 'CTSB', 'TIAL1', 'SMARCD2', 'BCL2L13', 'TMX3', 'CCDC86', 'ADH5', 'WDR77', 'BMS1', 'TGOLN2', 'ATP6V1H', 'UQCRH', 'SCARB2', 'UFC1', 'ABCB6', 'RBM12B', 'XRCC1', 'SUGT1', 'S100A11', 'RANBP3', 'ASCC2', 'BAG2', 'UBXN1', 'RDH13', 'VPS26A', 'TPD52', 'RALB', 'TPX2', 'SEC23A', 'ACOT9', 'TUBB6', 'SH3GLB1', 'ZFP91', 'TMED5', 'ASPH', 'ACAP1', 'ABHD11', 'PPHLN1', 'HIBADH', 'NIBAN2', 'NIP7', 'CKAP4', 'PLD3', 'PLBD2', 'PLAA', 'MPST', 'DDX54', 'MMAB', 'MICOS10', 'DIDO1', 'NXF1', 'CPT1A', 'DNAJC7', 'CHMP2A', 'DPM3', 'PHF6', 'LYRM7', 'LSM12', 'DTD1', 'PPIE', 'LIG3', 'LGALS1', 'GPS1', 'EEF1E1', 'PEX14', 'PEPD', 'ERLIN2', 'ERGIC3', 'PDXDC1', 'PLOD3', 'GMFB', 'NFYC', 'NDUFB9', 'NAA15', 'DBT', 'GCLM', 'MVP', 'DAP3', 'HDHD5', 'MTPN', 'NCBP1', 'CHP1', 'MTIF2', 'NCOA5', 'NDUFA7', 'NDUFAB1', 'NDUFAF2', 'JPT1', 'CIAO2B', 'MRPS18B', 'MSH2', 'NECAP2', 'HLA-C', 'CTTN', 'PFDN4', 'EXOSC9', 'RACGAP1', 'RFC1', 'AGFG1', 'UBXN4', 'POLD1', 'CAST', 'ESYT2', 'UBR4', 'ACSL3', 'UFD1', 'HIBCH', 'PEA15', 'RAD23A', 'PDIA5', 'IGF2BP3', 'HK1', 'UBL4A', 'CLPTM1', 'EXOSC7', 'HPRT1', 'HSP90AB2P', 'IST1', 'TWF2', 'PHYKPL', 'CNDP2', 'ACTN1', 'HTRA2', 'FAHD2A', 'RCN2', 'TTLL12', 'CNN2', 'RDX', 'PGM2', 'CHTOP', 'EIF3H', 'RO60', 'OAT', 'NSFL1C', 'CSNK2B', 'NPLOC4', 'MRPL27', 'CTCF', 'MRPL28', 'NOL7', 'SEPTIN11', 'BPNT1', 'NIFK', 'MRPL48', 'MRPL54', 'NFU1', 'MRPS2', 'ATG3', 'MRPS34', 'SNX6', 'SIN3A', 'SMARCC1', 'MTX1', 'SLC25A13', 'DCTPP1', 'DBNL', 'DIS3', 'SURF6', 'RPA1', 'CPNE3', 'TOMM5', 'DBI', 'KPNA3', 'TMEM230', 'EIF2B3', 'EIF2A', 'RPL32', 'TMED1', 'ANP32E', 'LIMA1', 'LIN7C', 'RAB6A', 'TCEA1', 'TBRG4', 'LTA4H', 'COTL1', 'TARS2', 'TAPBP', 'DPP3', 'MACROH2A2', 'DNMT1', 'MANF', 'DNASE2', 'DYNC1LI1', 'DBN1', 'CERS2', 'FDX1', 'GRWD1', 'VTN', 'PRDX2', 'QSOX2', 'CDK1', 'GYG1', 'VPS4A', 'HAGH', 'PSMD6', 'YARS2', 'ZC3H18', 'PRKRA', 'AASDHPPT', 'ABRACL', 'FDXR', 'PSIP1', 'POP1', 'WASF2', 'GLYR1', 'GGH', 'GATAD2A', 'AP2M1', 'RIDA', 'FKBP8', 'PAF1', 'TPP2', 'ISOC2', 'TIA1', 'RIC8A', 'ZCCHC8', 'XPNPEP3', 'THOC6', 'FLII', 'LPCAT1', 'PSMD5', 'PREB', 'LRPAP1', 'TEX264', 'RPS27', 'WTAP', 'NDUFA6', 'ALDH1B1', 'NFS1', 'KGD4', 'EIF4E', 'SNX2', 'RPL13A', 'EIF3J', 'SNX27', 'ALDH16A1', 'TMSB4X', 'CYB5A', 'TOLLIP', 'ABCD3', 'TNKS1BP1', 'SOD1', 'EHD1', 'SF3A2', 'TMEM123', 'PPP1R7', 'LDHB', 'TIMM9', 'WDR74', 'FXR2', 'PWP1', 'TBL2', 'DR1', 'PTCD3', 'CTNNBL1', 'MFAP1', 'BZW1', 'BYSL', 'MIA3', 'YLPM1', 'DENR', 'MMUT', 'MORF4L2', 'DECR1', 'YME1L1', 'PRRC1', 'CTPS1', 'NOC2L', 'SSR3', 'SRSF5', 'MRPL15', 'SEC13', 'CSTF3', 'NPM3', 'SQSTM1', 'SRP54', 'SRI', 'SEH1L', 'YKT6', 'STX12', 'GOLGB1', 'SYNJ2BP', 'PTPN11', 'M6PR', 'RRP15', 'APEH', 'MAD1L1', 'CTSC', 'P4HA1', 'COX6B1', 'APOO', 'OXA1L', 'DNAJC9', 'DNAJC3', 'FMR1', 'ARF4', 'NIPSNAP2', 'CPSF2', 'MAT2B', 'ARPC1B', 'SUPT6H', 'MRPL41', 'SUPT4H1', 'MCTS1', 'MDC1', 'C11orf98', 'RHOT1', 'TMEM200B', 'H1-5', 'UMPS', 'GCSH', 'POLR2H', 'HMGN4', 'SLC7A5', 'CBR1', 'GFPT1', 'UCHL5', 'DCXR', 'PGM3', 'IDH3G', 'ACP1', 'HMGA1', 'PLPBP', 'PFKP', 'PFDN5', 'CLIC4', 'ACTR2', 'GUK1', 'SMARCA4', 'RBM28', 'CYRIB', 'UBA6', 'ATP6V0D1', 'UBE2L3', 'CMAS', 'CLPP', 'NAPG', 'ACAT2', 'RBM12', 'HSPB1', 'HSPBP1', 'PHGDH', 'RCN1', 'SMCHD1', 'RBM34', 'PSMB5', 'FAHD1', 'DARS2', 'HEXA', 'PPIL1', 'PYM1', 'POLDIP3', 'AGPS', 'PML', 'ACTBL2', 'CLPB', 'H3-3A', 'CSTF1', 'NARS1', 'SRPRA', 'SRRM1', 'ZC3H15', 'NTPCR', 'ZC3H11A', 'DNAJC8', 'GALNT2', 'BOLA2', 'RBBP4', 'UBE2V1', 'CPNE1', 'CPSF1', 'VIM', 'CLINT1', 'FLOT2', 'UTP4', 'CTBP1', 'MAN2B1', 'PSMD9', 'RBM3', 'LYPLA1', 'MRPL24', 'PTPN1', 'ZNF638', 'RBM22', 'MRPL23', 'ZRANB2', 'MRPL46', 'SERPINH1', 'FOXK1', 'RBM17', 'ARPC5L', 'RBM15', 'POLR1D', 'ADAM10', 'ABHD10', 'DNM2', 'MARS1', 'DCTN3', 'MCCC2', 'UNC45A', 'PLIN3', 'DIAPH1', 'DDX56', 'BZW2', 'ACTR1A', 'DHX30', 'BTF3', 'DDX6', 'UHRF1', 'NANS', 'SEPTIN9', 'STAT1', 'NMT1', 'ARHGEF2', 'CDK5RAP3', 'NUCKS1', 'ATP6V1G1', 'NNT', 'BTF3L4', 'NUCB1', 'METAP1', 'POLR2B', 'UGDH', 'SARS2', 'MOGS', 'CHMP4B', 'MRPL38', 'PRPF38A', 'SAE1', 'CKAP5', 'NLN', 'SUN2', 'VBP1', 'NSDHL', 'HMGN2', 'DDX47', 'SUCLG2', 'MRPL4', 'NUP62', 'NUP54', 'LSS', 'CDV3', 'SARS1', 'NUP43', 'PPM1G', 'PACSIN2', 'QKI', 'RNPS1', 'ALB', 'RFC2', 'ZFR', 'RPA2', 'NDUFA10', 'TOMM22', 'PCK2', 'MSN', 'PFDN6', 'NDUFB1', 'SMC4', 'PGD', 'EIF2AK2', 'NDUFB2', 'GSN', 'IDH3B', 'TMSB10', 'ZFPL1', 'SMARCE1', 'MSH6', 'PSMD12', 'PYCR2', 'TTC1', 'MRTO4', 'KRR1', 'ETFB', 'RNH1', 'PPIH', 'TP53BP1', 'PYGB', 'RHOT2', 'ESD', 'AHCTF1', 'GSTO1', 'CD47', 'COA3', 'IPO4', 'NDUFA2', 'IPO7', 'AIMP2', 'SMNDC1', 'RMDN3', 'TRAPPC3', 'GSTK1', 'ITGB1', 'EMC8', 'PDCD6', 'PDCD5', 'SNAP23', 'SNAP29', 'EMC1', 'ETFA', 'AKR1A1', 'AKR1B1', 'SGTA', 'ARL8B', 'WDR43', 'PSMD3', 'VTA1', 'COPS8', 'GRHPR', 'ECI1', 'GLRX3', 'TUBA1C', 'HTATSF1', 'CORO1B', 'H1-10', 'LNPK', 'FDPS', 'DYNC1I2', 'TXNDC17', 'ANXA5', 'DSTN', 'TFG', 'MRPS18A', 'DDT', 'DRAP1', 'GOT1', 'EXOSC4', 'ZC3HAV1', 'HEXB', 'MRPS31', 'PSMA7', 'CHAMP1', 'RPL36AL', 'GLOD4', 'MRPS9', 'AARS2', 'PTRH2', 'EFHD2', 'TMED7', 'COPS4', 'TMED4', 'MRPS7', 'EEA1', 'MRPL44', 'ZNF326', 'MRPL39', 'SMU1', 'SPCS2', 'MRPS16', 'MRPL47', 'G6PD', 'GCN1', 'ZC3H4', 'ARMC1', 'MRPL53', 'MTHFD1', 'GCDH', 'MTX2', 'GLS', 'MRPL45', 'SLTM', 'MRPS27', 'ABCE1', 'AARS1', 'ATP6AP1', 'SNW1', 'SNRPC', 'DDX24', 'MTCH2', 'MRPL43', 'MRPS35', 'MYCBP', 'ATL3', 'SPTLC1', 'MYG1', 'ZC3H14', 'SNX3', 'MTHFD2', 'HGS', 'YWHAH', 'TMEM43', 'IDH3A', 'IGF2R', 'ETHE1', 'FEN1', 'WARS1', 'TRIR', 'IMP3', 'ACADVL', 'TRIM25', 'AK3', 'IVD', 'IWS1', 'ELOC', 'JPT2', 'EIF5B', 'GSR', 'EIF5A', 'EIF4G2', 'WDR12', 'TOM1', 'ALDH18A1', 'EIF3L', 'EIF3K', 'KIF5B', 'EIF3G', 'EIF3E', 'EIF3D', 'IDH2', 'ADSS2', 'IARS1', 'VASP', 'USP14', 'UTP18', 'HDGF', 'HCFC1', 'UQCRQ', 'HBA1', 'HARS1', 'ACTL6A', 'FAF2', 'VAPB', 'UGP2', 'UFM1', 'ACOT7', 'HUWE1', 'ACOT13', 'FAU', 'HACD3', 'UBE2N', 'H2AC21', 'UBE2K', 'HNRNPH2', 'EXOSC2', 'TXNRD1', 'TXNL1', 'HSDL2', 'EXOSC10', 'ALDH9A1', 'EIF2S3', 'SRP72', 'KPNA4', 'TAF15', 'DNTTIP2', 'DNM1L', 'YARS1', 'APRT', 'GNB2', 'MAPK1', 'DNAJC11', 'MARCKSL1', 'GNB1', 'DNAJB1', 'GNAI3', 'SUPT16H', 'ME2', 'STX7', 'STX4', 'ARGLU1', 'MESD', 'STUB1', 'DIABLO', 'MKI67', 'STAU1', 'MRE11', 'ARL6IP5', 'MRPL12', 'SRSF10', 'MRPL18', 'FLOT1', 'TAGLN2', 'MACF1', 'LEMD2', 'GRSF1', 'KRT1', 'FIP1L1', 'TMED10', 'EEF1A2', 'TM9SF3', 'LARP7', 'LARS1', 'ANP32A', 'EDF1', 'EDC4', 'ANP32B', 'ECH1', 'GNL3', 'TIMM13', 'ACAA1', 'GPI', 'ANXA2', 'LRRFIP1', 'LSM6', 'TCOF1', 'TBL3', 'XPO1', 'LUC7L2', 'LUC7L3', 'LYAR', 'MRPS22', 'GART', 'CTSD', 'NDUFB11', 'RHOG', 'PAM16', 'NDUFS7', 'NSUN2', 'POLR1C', 'CRKL', 'RAB5A', 'PEBP1', 'RBM4', 'NDUFS2', 'NUCB2', 'SCFD1', 'PRKAR2A', 'POLR1G', 'NDUFAF3', 'RAB8A', 'RAB8B', 'PDHX', 'NUDT5', 'PDHB', 'PRPF3', 'PRPF31', 'PARK7', 'PRPF40A', 'BAZ1B', 'NUP205', 'RHOA', 'CAT', 'BAX', 'POLR2E', 'NPEPPS', 'POLR2L', 'RAB1A', 'RPS26', 'POR', 'POLR2I', 'NOL6', 'NME2', 'RAB11B', 'SEC16A', 'NME1', 'CHMP1A', 'REEP5', 'PURB', 'CD2BP2', 'PGLS', 'CSTB', 'PPIF', 'PAFAH1B2', 'PYCR1', 'SET', 'PPP1CC', 'RPS29', 'PPP1R12A', 'PFDN2', 'PFDN1', 'PRRC2A', 'PRKDC', 'NUP214', 'COX7C', 'PSMD14', 'CYB5R3', 'NUP88', 'PSMD13', 'CIRBP', 'RBM10', 'CAPN1', 'PCNP', 'PLP2', 'PCMT1', 'PSMC4', 'OTUB1', 'B2M', 'SAMM50', 'COX6C', 'NUP98', 'RAVER1', 'PSMA3', 'CPOX', 'NUTF2', 'PSMB7', 'NAMPT', 'NACA', 'PSMB4', 'CCDC124', 'OLA1', 'CPSF3', 'ATXN2L', 'RPL26', 'RAB1B', 'PDCD11', 'RAC1', 'CELF1', 'COLGALT1', 'NDUFA4', 'PSMD8', 'CAPNS1', 'PSME3', 'U2AF2', 'HNRNPUL2', 'HSPA9', 'HNRNPUL1', 'HNRNPA3', 'PITRM1', 'CLPX', 'HNRNPAB', 'HNRNPC', 'HSPA8', 'UBAP2L', 'HSPA5', 'TUFM', 'HNRNPU', 'HNRNPA2B1', 'CNBP', 'CBX5', 'HSPH1', 'CLIP1', 'HSPE1', 'HNRNPA1', 'HSPD1', 'ACTR3', 'HNRNPK', 'CLTA', 'UBL5', 'TUBB4B', 'HNRNPL', 'UBE2I', 'HNRNPM', 'HNRNPR', 'HSPA4', 'UBA2', 'RBMX', 'RBM25', 'U2AF1', 'CCAR2', 'U2SURP', 'RBM39', 'EXOSC6', 'HP1BP3', 'UBE2M', 'HSD17B10', 'PKM', 'TUBB', 'ADAR', 'HSD17B4', 'HNRNPH1', 'CLTB', 'CCAR1', 'HNRNPD', 'HNRNPH3', 'TXNDC5', 'PICALM', 'RBM8A', 'TXNDC12', 'HNRNPF', 'HSP90AA1', 'TXN', 'HNRNPDL', 'UBA1', 'HSP90AB1', 'CMPK1', 'HSP90B1', 'RBM14', 'CLTC', 'DAZAP1', 'CBX3', 'RCC1', 'ELAVL1', 'ELOB', 'PDCD10', 'TPD52L2', 'TPI1', 'EMC2', 'TPM3', 'TPM4', 'TPP1', 'CAPRIN1', 'EMC7', 'TPR', 'PDCD6IP', 'TPT1', 'EMD', 'TRA2A', 'TRA2B', 'ITGB5', 'PDHA1', 'ENO1', 'ENY2', 'TRAP1', 'CAPZA1', 'PDAP1', 'COMT', 'COPA', 'RPA3', 'COPG1', 'COPE', 'PCBP1', 'PCBP2', 'KHDRBS1', 'COPB2', 'TOMM20', 'CANX', 'EIF4G1', 'TOMM40', 'COPB1', 'EIF6', 'TOMM70', 'CAP1', 'TOP1', 'TOP2A', 'TOP2B', 'EIF4H', 'EIF5', 'TOR1AIP1', 'PCNA', 'KARS1', 'CAPZA2', 'EPRS1', 'AK2', 'AFG3L2', 'CNP', 'ETF1', 'RFC4', 'PFN1', 'PGAM1', 'TSN', 'PGAM5', 'HNRNPA0', 'EWSR1', 'PGK1', 'PGRMC1', 'PES1', 'IDH1', 'PGRMC2', 'PHB1', 'IARS2', 'PHB2', 'ADRM1', 'HYOU1', 'PHF5A', 'CBX1', 'RCC2', 'ESYT1', 'IK', 'IQGAP1', 'AHNAK', 'AIP', 'CAPZB', 'PDIA3', 'AIMP1', 'TRIM28', 'AIFM1', 'PDIA4', 'IPO5', 'PDIA6', 'AHSA1', 'ERH', 'AHCY', 'IMPDH2', 'CNPY2', 'IMMT', 'ILF3', 'ILF2', 'PELP1', 'ERO1A', 'ERP29', 'TRMT112', 'ERP44', 'UBQLN1', 'UPF1', 'HMOX2', 'XRN2', 'CDC42', 'CDC5L', 'GORASP2', 'CDC73', 'CFL1', 'FLNB', 'PRKAR1A', 'GOLGA2', 'XRCC5', 'XRCC6', 'GNS', 'GMPS', 'PRKCSH', 'PTMA', 'CEP290', 'PRPF19', 'YBX1', 'GNAS', 'PRPF4', 'GNAI2', 'PTGES3', 'PTGES2', 'GOT2', 'FLNA', 'PRDX6', 'CDC37', 'GSPT1', 'WDR1', 'ACAD9', 'CHERP', 'WDR18', 'CHD4', 'PPP2R1A', 'GRPEL1', 'WDR36', 'PPT1', 'PUF60', 'FIS1', 'CHCHD3', 'GRB2', 'PRDX1', 'FKBP2', 'PRDX3', 'PRDX4', 'FKBP3', 'FKBP4', 'PRDX5', 'PRPF6', 'PRPF8', 'RARS1', 'G3BP2', 'FXR1', 'PSMC6', 'PSMC5', 'GFM1', 'GET3', 'ZNF207', 'PSMC3', 'PSMC2', 'PSMC1', 'G3BP1', 'GDI2', 'PTBP3', 'GADD45GIP1', 'PSMA4', 'PSMB6', 'PSMB3', 'PSMB2', 'GANAB', 'GAPDH', 'PSMA5', 'PSMB1', 'GAR1', 'PSMD1', 'FUS', 'FUBP3', 'PSMA2', 'GLUD1', 'YWHAB', 'YWHAE', 'YWHAG', 'YWHAQ', 'YWHAZ', 'PTBP1', 'PRRC2C', 'PSPC1', 'PSMA1', 'PSME2', 'PSME1', 'GLRX5', 'PSMD7', 'PSMD4', 'ABCF1', 'PSMD2', 'GLO1', 'FTSJ3', 'FUBP1', 'PSMD11', 'ACADM', 'GSS', 'WBP11', 'PNPT1', 'KHSRP', 'PMPCA', 'FAM120A', 'PMPCB', 'UQCRB', 'UQCRC1', 'UQCRC2', 'HLA-A', 'FAM136A', 'PNN', 'FAM162A', 'PPP1CB', 'POLDIP2', 'USO1', 'USP10', 'HINT2', 'HINT1', 'USP39', 'USP5', 'USP7', 'RAB7A', 'RAB5C', 'RACK1', 'PLRG1', 'RAD21', 'RAD23B', 'CLIC1', 'EZR', 'UBTF', 'PLEC', 'RANGAP1', 'RANBP2', 'HMGN1', 'HMGB3', 'RANBP1', 'HMGB2', 'HMGB1', 'RAN', 'UFL1', 'CISD2', 'RALY', 'UGGT1', 'RALA', 'CCDC47', 'RAE1', 'ACTN4', 'RAD50', 'RAB5B', 'HEATR1', 'HDLBP', 'VDAC3', 'RAB21', 'FBL', 'H4C1', 'ACLY', 'ACIN1', 'H3-7', 'RAB18', 'RAB14', 'VPS35', 'PPA1', 'PPA2', 'RAB10', 'ACAT1', 'GARS1', 'PPIA', 'GTPBP4', 'PPIB', 'GTF2I', 'QARS1', 'FH', 'PPP1CA', 'ACO2', 'VDAC2', 'CCT2', 'VDAC1', 'HDGFL2', 'CCT3', 'CCT4', 'FARSA', 'CCT5', 'FARSB', 'FASN', 'POLR2A', 'CCT6A', 'VAPA', 'POLR2C', 'VARS1', 'CCT7', 'HADHB', 'RAB2A', 'VAT1', 'HADHA', 'CCT8', 'HADH', 'VCL', 'VCP', 'RPL10', 'RPL22', 'TNPO1', 'SPTBN1', 'NOLC1', 'NONO', 'NOP2', 'BRIX1', 'NOP56', 'NOP58', 'SEC62', 'SRM', 'SRP14', 'SEC61B', 'SRP68', 'SEC31A', 'SRP9', 'MRPL19', 'NPM1', 'CSTF2', 'SRPRB', 'SEC22B', 'SRRM2', 'SRRT', 'SRSF1', 'SRSF11', 'MRPL17', 'SEPTIN2', 'SPTAN1', 'SDHB', 'MRPL40', 'SF3B4', 'SF3B3', 'SF3B2', 'DDX42', 'MRPL58', 'SF3B1', 'SPCS3', 'SF3A3', 'SF3A1', 'DDX46', 'MRPL50', 'MRPL49', 'SF1', 'NHERF1', 'NHP2', 'ARPC5', 'ARPC4', 'ARPC3', 'BOP1', 'ARPC2', 'SERBP1', 'NIT2', 'SEPTIN7', 'SRSF3', 'SRSF6', 'SFPQ', 'NUDC', 'MLEC', 'NUDT21', 'MIX23', 'MIF', 'ARHGDIA', 'STMN1', 'NUMA1', 'DHX15', 'STOML2', 'SCAMP3', 'STRAP', 'NUP107', 'ARHGAP1', 'DHX9', 'NUP133', 'NUP153', 'NUP155', 'NUP35', 'SART3', 'SART1', 'DKC1', 'SARNP', 'NUP50', 'STIP1', 'BUD31', 'SRSF7', 'DEK', 'SRSF9', 'MRPL13', 'CSNK2A2', 'SSB', 'SSBP1', 'MRPL11', 'SDHA', 'MRPL1', 'SSR1', 'CSE1L', 'SSR4', 'SSRP1', 'BSG', 'DDX5', 'NSF', 'DDX50', 'CSDE1', 'CS', 'CRYZ', 'SCRIB', 'SCP2', 'SCO1', 'BUB3', 'SF3B6', 'MRPS23', 'RPL10A', 'ATP6V1A', 'CYCS', 'CYC1', 'SKP1', 'SMARCA5', 'DDX1', 'NCL', 'SMARCC2', 'NCLN', 'BAG6', 'SMC1A', 'NCSTN', 'SMC2', 'SMC3', 'CYB5B', 'ATP5PO', 'BANF1', 'ATP5PF', 'ATP5PD', 'MTHFD1L', 'NDUFA13', 'ATP5PB', 'DDX17', 'ATP5MK', 'NAXE', 'MTREX', 'ATP5MG', 'ATP6V1B2', 'SLC25A6', 'SLC25A5', 'DCTN1', 'SLC35A4', 'DCTN2', 'MYL6', 'SLC25A3', 'MYH9', 'DARS1', 'MYDGF', 'SLC3A2', 'ATP6V1E1', 'NAP1L1', 'MYBBP1A', 'NAP1L4', 'DDB1', 'NAPA', 'SLC1A5', 'SLIRP', 'DDOST', 'DDRGK1', 'NASP', 'NAT10', 'MTDH', 'DDX18', 'DDX3X', 'SHMT2', 'ATP2A2', 'NDUFB4', 'ATP1B3', 'SH3BGRL3', 'DDX27', 'NDUFS1', 'ATP1A1', 'NDUFS3', 'BCLAF1', 'NDUFS6', 'SOD2', 'SON', 'DDX39B', 'NDUFS8', 'NDUFV1', 'NDUFV2', 'SFXN1', 'ATIC', 'NEDD8', 'CUTA', 'MRPS28', 'NENF', 'ATAD3A', 'NDUFB10', 'SNU13', 'ATP5ME', 'DDX23', 'NDUFA5', 'ATP5IF1', 'BCAP31', 'ATP5F1D', 'ATP5F1C', 'SND1', 'ATP5F1B', 'ATP5F1A', 'SNRNP200', 'MTA2', 'SNRNP40', 'SNRNP70', 'SNRPA', 'SNRPA1', 'MT-CO2', 'SNRPB2', 'BCAS2', 'SNRPD1', 'SNRPD2', 'SNRPD3', 'SNRPE', 'SNRPF', 'DDX21', 'DLAT', 'DLD', 'DLST', 'PAK2', 'RPN2', 'RPN1', 'RPLP2', 'LDHA', 'RPLP1', 'LBR', 'RPLP0', 'LASP1', 'TKT', 'RPL9', 'RPL8', 'TLN1', 'RPL7A', 'LARP1', 'LAP3', 'LAMTOR5', 'LAMTOR1', 'RPL7', 'LAMP2', 'LAMP1', 'RPL6', 'RPL5', 'RPL4', 'COPZ1', 'TIMM50', 'EEF1B2', 'TIMM44', 'RPS19', 'RPS18', 'LONP1', 'RPS17', 'LMNB2', 'RPS16', 'LMNB1', 'LMNA', 'THRAP3', 'LMAN2', 'RPS15A', 'ANXA11', 'LMAN1', 'RPS14', 'RPS13', 'EBNA1BP2', 'RPS12', 'RPS11', 'RPS10', 'PAICS', 'ECHS1', 'RPRD1B', 'LETM1', 'RPL38', 'EEF1D', 'SAP18', 'RPL23', 'ALDOC', 'ALDOA', 'CAND1', 'SLC2A1', 'RPL21', 'TMOD3', 'TMPO', 'RPL19', 'RPL18A', 'EIF3F', 'RPL18', 'RPL17', 'TMX1', 'EIF3I', 'RPL15', 'RPL14', 'RPL13', 'KIF20B', 'RPL12', 'EIF4A1', 'EIF4A3', 'RPL11', 'EIF4B', 'EIF3B', 'EIF3A', 'PARP1', 'RPL23A', 'RPL36', 'TMED9', 'EEF1G', 'TMEM109', 'EEF2', 'RPL35A', 'RPL35', 'KTN1', 'EFTUD2', 'RPL34', 'ALYREF', 'RPL31', 'RPL30', 'RPL3', 'RPL29', 'RPL28', 'RPL27A', 'EIF2S1', 'KPNB1', 'RPL27', 'EIF2S2', 'RPL24', 'KPNA2', 'DYNC1H1', 'CORO1C', 'DUT', 'C1QBP', 'C7orf50', 'MAPRE1', 'SYNCRIP', 'OPA1', 'ARCN1', 'MAP4', 'RUVBL2', 'RUVBL1', 'RTRAF', 'COX7A2', 'RTN4', 'CACYBP', 'OXSR1', 'RTCB', 'COX5B', 'RSL1D1', 'P4HB', 'RRS1', 'APMAP', 'RRP9', 'COX5A', 'API5', 'APEX1', 'MAT2A', 'MATR3', 'DTYMK', 'DNAJB11', 'DNAJA1', 'DNAJA2', 'SUB1', 'SUCLA2', 'SUCLG1', 'NUP93', 'MDH2', 'MDH1', 'MCM7', 'SUMF2', 'MCM6', 'MCM5', 'MCM4', 'MCM3', 'SAFB2', 'SAFB', 'SUPT5H', 'CPSF7', 'MCM2', 'DNAJA3', 'OCIAD1', 'CPSF6', 'OGDH', 'CAD', 'PA2G4', 'TALDO1', 'MACROH2A1', 'TCERG1', 'AP2A1', 'LSM8', 'RPS28', 'TCP1', 'LSM7', 'LSM4', 'LSM3', 'LSM2', 'PAFAH1B3', 'RPS25', 'TFAM', 'LRRC59', 'LRRC47', 'LRPPRC', 'RPS24', 'RPS23', 'AP1B1', 'TFRC', 'ANXA7', 'RPS21', 'RPS20', 'RPS2', 'AP2B1', 'RPS3', 'RPS3A', 'DPY30', 'RRP1B', 'RRP12', 'RRP1', 'PABPC1', 'COX4I1', 'TARDBP', 'TARS1', 'RRBP1', 'PABPC4', 'PABPN1', 'CALR', 'RPS4X', 'AP2S1', 'RPSA', 'TBCA', 'TBCB', 'RPS9', 'RPS8', 'RPS7', 'CALU', 'RPS6', 'RPS5', 'PSMA6']\n"
     ]
    },
    {
     "name": "stderr",
     "output_type": "stream",
     "text": [
      "/tmp/ipykernel_511504/451463813.py:10: FutureWarning: A value is trying to be set on a copy of a DataFrame or Series through chained assignment using an inplace method.\n",
      "The behavior will change in pandas 3.0. This inplace method will never work because the intermediate object on which we are setting values always behaves as a copy.\n",
      "\n",
      "For example, when doing 'df[col].method(value, inplace=True)', try using 'df.method({col: value}, inplace=True)' or df[col] = df[col].method(value) instead, to perform the operation inplace on the original object.\n",
      "\n",
      "\n",
      "  diann_report_long_filtered['Intensity'].fillna(0, inplace=True)\n",
      "/tmp/ipykernel_511504/451463813.py:10: SettingWithCopyWarning: \n",
      "A value is trying to be set on a copy of a slice from a DataFrame\n",
      "\n",
      "See the caveats in the documentation: https://pandas.pydata.org/pandas-docs/stable/user_guide/indexing.html#returning-a-view-versus-a-copy\n",
      "  diann_report_long_filtered['Intensity'].fillna(0, inplace=True)\n"
     ]
    },
    {
     "data": {
      "application/vnd.microsoft.datawrangler.viewer.v0+json": {
       "columns": [
        {
         "name": "index",
         "rawType": "int64",
         "type": "integer"
        },
        {
         "name": "Genes",
         "rawType": "object",
         "type": "string"
        },
        {
         "name": "Samples",
         "rawType": "object",
         "type": "string"
        },
        {
         "name": "Intensity",
         "rawType": "float64",
         "type": "float"
        }
       ],
       "ref": "a45c0eb5-233a-4193-9e80-8ad6659c59ce",
       "rows": [
        [
         "1",
         "AAAS",
         "190529_5510_007ZV_00BL5_M03_S_1.mzML",
         "0.0"
        ],
        [
         "3",
         "AAGAB",
         "190529_5510_007ZV_00BL5_M03_S_1.mzML",
         "0.0"
        ],
        [
         "4",
         "AAK1",
         "190529_5510_007ZV_00BL5_M03_S_1.mzML",
         "0.0"
        ],
        [
         "6",
         "AAMP",
         "190529_5510_007ZV_00BL5_M03_S_1.mzML",
         "0.0"
        ],
        [
         "7",
         "AARS1",
         "190529_5510_007ZV_00BL5_M03_S_1.mzML",
         "9183.15"
        ],
        [
         "8",
         "AARS2",
         "190529_5510_007ZV_00BL5_M03_S_1.mzML",
         "2668.04"
        ],
        [
         "9",
         "AARSD1",
         "190529_5510_007ZV_00BL5_M03_S_1.mzML",
         "952.067"
        ],
        [
         "10",
         "AASDHPPT",
         "190529_5510_007ZV_00BL5_M03_S_1.mzML",
         "5755.57"
        ],
        [
         "12",
         "AATF",
         "190529_5510_007ZV_00BL5_M03_S_1.mzML",
         "0.0"
        ],
        [
         "15",
         "ABCB4",
         "190529_5510_007ZV_00BL5_M03_S_1.mzML",
         "7257.02"
        ],
        [
         "16",
         "ABCB6",
         "190529_5510_007ZV_00BL5_M03_S_1.mzML",
         "0.0"
        ],
        [
         "18",
         "ABCC1",
         "190529_5510_007ZV_00BL5_M03_S_1.mzML",
         "0.0"
        ],
        [
         "22",
         "ABCD3",
         "190529_5510_007ZV_00BL5_M03_S_1.mzML",
         "5851.13"
        ],
        [
         "23",
         "ABCE1",
         "190529_5510_007ZV_00BL5_M03_S_1.mzML",
         "7331.55"
        ],
        [
         "24",
         "ABCF1",
         "190529_5510_007ZV_00BL5_M03_S_1.mzML",
         "3211.8"
        ],
        [
         "25",
         "ABCF2",
         "190529_5510_007ZV_00BL5_M03_S_1.mzML",
         "699.639"
        ],
        [
         "26",
         "ABCF3",
         "190529_5510_007ZV_00BL5_M03_S_1.mzML",
         "0.0"
        ],
        [
         "27",
         "ABHD10",
         "190529_5510_007ZV_00BL5_M03_S_1.mzML",
         "4664.22"
        ],
        [
         "28",
         "ABHD11",
         "190529_5510_007ZV_00BL5_M03_S_1.mzML",
         "0.0"
        ],
        [
         "29",
         "ABHD12",
         "190529_5510_007ZV_00BL5_M03_S_1.mzML",
         "2053.3"
        ],
        [
         "30",
         "ABHD14B",
         "190529_5510_007ZV_00BL5_M03_S_1.mzML",
         "6623.79"
        ],
        [
         "32",
         "ABHD6",
         "190529_5510_007ZV_00BL5_M03_S_1.mzML",
         "0.0"
        ],
        [
         "33",
         "ABI1",
         "190529_5510_007ZV_00BL5_M03_S_1.mzML",
         "2387.97"
        ],
        [
         "34",
         "ABI2",
         "190529_5510_007ZV_00BL5_M03_S_1.mzML",
         "0.0"
        ],
        [
         "37",
         "ABRACL",
         "190529_5510_007ZV_00BL5_M03_S_1.mzML",
         "3777.97"
        ],
        [
         "38",
         "ABT1",
         "190529_5510_007ZV_00BL5_M03_S_1.mzML",
         "0.0"
        ],
        [
         "39",
         "ACAA1",
         "190529_5510_007ZV_00BL5_M03_S_1.mzML",
         "0.0"
        ],
        [
         "40",
         "ACAA2",
         "190529_5510_007ZV_00BL5_M03_S_1.mzML",
         "5648.78"
        ],
        [
         "41",
         "ACACA",
         "190529_5510_007ZV_00BL5_M03_S_1.mzML",
         "3204.17"
        ],
        [
         "42",
         "ACAD8",
         "190529_5510_007ZV_00BL5_M03_S_1.mzML",
         "0.0"
        ],
        [
         "43",
         "ACAD9",
         "190529_5510_007ZV_00BL5_M03_S_1.mzML",
         "3739.2"
        ],
        [
         "44",
         "ACADM",
         "190529_5510_007ZV_00BL5_M03_S_1.mzML",
         "7288.2"
        ],
        [
         "46",
         "ACADSB",
         "190529_5510_007ZV_00BL5_M03_S_1.mzML",
         "0.0"
        ],
        [
         "47",
         "ACADVL",
         "190529_5510_007ZV_00BL5_M03_S_1.mzML",
         "9985.86"
        ],
        [
         "48",
         "ACAP1",
         "190529_5510_007ZV_00BL5_M03_S_1.mzML",
         "5128.31"
        ],
        [
         "49",
         "ACAP2",
         "190529_5510_007ZV_00BL5_M03_S_1.mzML",
         "0.0"
        ],
        [
         "50",
         "ACAT1",
         "190529_5510_007ZV_00BL5_M03_S_1.mzML",
         "6157.35"
        ],
        [
         "51",
         "ACAT2",
         "190529_5510_007ZV_00BL5_M03_S_1.mzML",
         "8393.54"
        ],
        [
         "52",
         "ACBD3",
         "190529_5510_007ZV_00BL5_M03_S_1.mzML",
         "0.0"
        ],
        [
         "53",
         "ACBD5",
         "190529_5510_007ZV_00BL5_M03_S_1.mzML",
         "0.0"
        ],
        [
         "54",
         "ACIN1",
         "190529_5510_007ZV_00BL5_M03_S_1.mzML",
         "8190.43"
        ],
        [
         "55",
         "ACLY",
         "190529_5510_007ZV_00BL5_M03_S_1.mzML",
         "8756.56"
        ],
        [
         "56",
         "ACO1",
         "190529_5510_007ZV_00BL5_M03_S_1.mzML",
         "0.0"
        ],
        [
         "57",
         "ACO2",
         "190529_5510_007ZV_00BL5_M03_S_1.mzML",
         "5748.99"
        ],
        [
         "58",
         "ACOT13",
         "190529_5510_007ZV_00BL5_M03_S_1.mzML",
         "0.0"
        ],
        [
         "59",
         "ACOT7",
         "190529_5510_007ZV_00BL5_M03_S_1.mzML",
         "3516.82"
        ],
        [
         "60",
         "ACOT8",
         "190529_5510_007ZV_00BL5_M03_S_1.mzML",
         "0.0"
        ],
        [
         "61",
         "ACOT9",
         "190529_5510_007ZV_00BL5_M03_S_1.mzML",
         "1630.84"
        ],
        [
         "62",
         "ACOX1",
         "190529_5510_007ZV_00BL5_M03_S_1.mzML",
         "0.0"
        ],
        [
         "63",
         "ACP1",
         "190529_5510_007ZV_00BL5_M03_S_1.mzML",
         "6555.86"
        ]
       ],
       "shape": {
        "columns": 3,
        "rows": 204594
       }
      },
      "text/html": [
       "<div>\n",
       "<style scoped>\n",
       "    .dataframe tbody tr th:only-of-type {\n",
       "        vertical-align: middle;\n",
       "    }\n",
       "\n",
       "    .dataframe tbody tr th {\n",
       "        vertical-align: top;\n",
       "    }\n",
       "\n",
       "    .dataframe thead th {\n",
       "        text-align: right;\n",
       "    }\n",
       "</style>\n",
       "<table border=\"1\" class=\"dataframe\">\n",
       "  <thead>\n",
       "    <tr style=\"text-align: right;\">\n",
       "      <th></th>\n",
       "      <th>Genes</th>\n",
       "      <th>Samples</th>\n",
       "      <th>Intensity</th>\n",
       "    </tr>\n",
       "  </thead>\n",
       "  <tbody>\n",
       "    <tr>\n",
       "      <th>1</th>\n",
       "      <td>AAAS</td>\n",
       "      <td>190529_5510_007ZV_00BL5_M03_S_1.mzML</td>\n",
       "      <td>0.00</td>\n",
       "    </tr>\n",
       "    <tr>\n",
       "      <th>3</th>\n",
       "      <td>AAGAB</td>\n",
       "      <td>190529_5510_007ZV_00BL5_M03_S_1.mzML</td>\n",
       "      <td>0.00</td>\n",
       "    </tr>\n",
       "    <tr>\n",
       "      <th>4</th>\n",
       "      <td>AAK1</td>\n",
       "      <td>190529_5510_007ZV_00BL5_M03_S_1.mzML</td>\n",
       "      <td>0.00</td>\n",
       "    </tr>\n",
       "    <tr>\n",
       "      <th>6</th>\n",
       "      <td>AAMP</td>\n",
       "      <td>190529_5510_007ZV_00BL5_M03_S_1.mzML</td>\n",
       "      <td>0.00</td>\n",
       "    </tr>\n",
       "    <tr>\n",
       "      <th>7</th>\n",
       "      <td>AARS1</td>\n",
       "      <td>190529_5510_007ZV_00BL5_M03_S_1.mzML</td>\n",
       "      <td>9183.15</td>\n",
       "    </tr>\n",
       "    <tr>\n",
       "      <th>...</th>\n",
       "      <td>...</td>\n",
       "      <td>...</td>\n",
       "      <td>...</td>\n",
       "    </tr>\n",
       "    <tr>\n",
       "      <th>300053</th>\n",
       "      <td>ZNRF2</td>\n",
       "      <td>200124_B5-13-T1-1_00Q49_00QMB_M03_S_1.mzML</td>\n",
       "      <td>0.00</td>\n",
       "    </tr>\n",
       "    <tr>\n",
       "      <th>300054</th>\n",
       "      <td>ZPR1</td>\n",
       "      <td>200124_B5-13-T1-1_00Q49_00QMB_M03_S_1.mzML</td>\n",
       "      <td>586.91</td>\n",
       "    </tr>\n",
       "    <tr>\n",
       "      <th>300055</th>\n",
       "      <td>ZRANB2</td>\n",
       "      <td>200124_B5-13-T1-1_00Q49_00QMB_M03_S_1.mzML</td>\n",
       "      <td>2656.07</td>\n",
       "    </tr>\n",
       "    <tr>\n",
       "      <th>300057</th>\n",
       "      <td>ZW10</td>\n",
       "      <td>200124_B5-13-T1-1_00Q49_00QMB_M03_S_1.mzML</td>\n",
       "      <td>0.00</td>\n",
       "    </tr>\n",
       "    <tr>\n",
       "      <th>300058</th>\n",
       "      <td>ZYX</td>\n",
       "      <td>200124_B5-13-T1-1_00Q49_00QMB_M03_S_1.mzML</td>\n",
       "      <td>4245.43</td>\n",
       "    </tr>\n",
       "  </tbody>\n",
       "</table>\n",
       "<p>204594 rows × 3 columns</p>\n",
       "</div>"
      ],
      "text/plain": [
       "         Genes                                     Samples  Intensity\n",
       "1         AAAS        190529_5510_007ZV_00BL5_M03_S_1.mzML       0.00\n",
       "3        AAGAB        190529_5510_007ZV_00BL5_M03_S_1.mzML       0.00\n",
       "4         AAK1        190529_5510_007ZV_00BL5_M03_S_1.mzML       0.00\n",
       "6         AAMP        190529_5510_007ZV_00BL5_M03_S_1.mzML       0.00\n",
       "7        AARS1        190529_5510_007ZV_00BL5_M03_S_1.mzML    9183.15\n",
       "...        ...                                         ...        ...\n",
       "300053   ZNRF2  200124_B5-13-T1-1_00Q49_00QMB_M03_S_1.mzML       0.00\n",
       "300054    ZPR1  200124_B5-13-T1-1_00Q49_00QMB_M03_S_1.mzML     586.91\n",
       "300055  ZRANB2  200124_B5-13-T1-1_00Q49_00QMB_M03_S_1.mzML    2656.07\n",
       "300057    ZW10  200124_B5-13-T1-1_00Q49_00QMB_M03_S_1.mzML       0.00\n",
       "300058     ZYX  200124_B5-13-T1-1_00Q49_00QMB_M03_S_1.mzML    4245.43\n",
       "\n",
       "[204594 rows x 3 columns]"
      ]
     },
     "execution_count": 37,
     "metadata": {},
     "output_type": "execute_result"
    }
   ],
   "source": [
    "# Filter missing genes\n",
    "# Use 50% rule\n",
    "selected_genes = missing_values[missing_values['Percentage'] <= 50]['Genes'].tolist()\n",
    "print(selected_genes)\n",
    "\n",
    "# Filter diann_report_long for selected genes\n",
    "diann_report_long_filtered = diann_report_long[diann_report_long['Genes'].isin(selected_genes)]\n",
    "\n",
    "# impute missing values with 0\n",
    "diann_report_long_filtered['Intensity'].fillna(0, inplace=True)\n",
    "\n",
    "diann_report_long_filtered.head()\n"
   ]
  },
  {
   "cell_type": "code",
   "execution_count": 47,
   "metadata": {},
   "outputs": [],
   "source": [
    "# Join with sdrf\n",
    "dr_plot_join = diann_report_long_filtered.merge(sdrf, left_on='Samples', right_on='comment[data file]', how='left')\n",
    "\n",
    "# filter only non zero intensity\n",
    "dr_plot = dr_plot_join[dr_plot_join['Intensity'] > 0]"
   ]
  },
  {
   "cell_type": "code",
   "execution_count": 48,
   "metadata": {},
   "outputs": [
    {
     "data": {
      "image/png": "[encoded data removed]",
      "text/plain": [
       "<Figure size 1200x600 with 1 Axes>"
      ]
     },
     "metadata": {},
     "output_type": "display_data"
    }
   ],
   "source": [
    "# Plot the dynamic range\n",
    "plt.figure(figsize=(12, 6))\n",
    "sns.boxplot(data=dr_plot, x='factor value[cell line]', y='Intensity', hue = 'characteristics[organism part]',\n",
    "            palette='Set2', showfliers=False)\n",
    "plt.xticks(rotation=90)\n",
    "plt.title('Dynamic Range of Intensities Across Samples')\n",
    "plt.xlabel('Samples')\n",
    "plt.ylabel('Intensity')\n",
    "plt.tight_layout()\n",
    "plt.yscale('log')\n",
    "plt.legend(loc='upper left', bbox_to_anchor=(1, 1))\n",
    "plt.show()\n"
   ]
  },
  {
   "cell_type": "code",
   "execution_count": 49,
   "metadata": {},
   "outputs": [
    {
     "data": {
      "application/vnd.microsoft.datawrangler.viewer.v0+json": {
       "columns": [
        {
         "name": "index",
         "rawType": "int64",
         "type": "integer"
        },
        {
         "name": "Genes",
         "rawType": "object",
         "type": "string"
        },
        {
         "name": "Samples",
         "rawType": "object",
         "type": "string"
        },
        {
         "name": "Intensity",
         "rawType": "float64",
         "type": "float"
        },
        {
         "name": "source name",
         "rawType": "object",
         "type": "string"
        },
        {
         "name": "characteristics[organism]",
         "rawType": "object",
         "type": "string"
        },
        {
         "name": "characteristics[organism part]",
         "rawType": "object",
         "type": "string"
        },
        {
         "name": "characteristics[sampling site]",
         "rawType": "object",
         "type": "string"
        },
        {
         "name": "characteristics[age]",
         "rawType": "object",
         "type": "string"
        },
        {
         "name": "characteristics[developmental stage]",
         "rawType": "object",
         "type": "string"
        },
        {
         "name": "characteristics[sex]",
         "rawType": "object",
         "type": "string"
        },
        {
         "name": "characteristics[ancestry category]",
         "rawType": "object",
         "type": "string"
        },
        {
         "name": "characteristics[disease]",
         "rawType": "object",
         "type": "string"
        },
        {
         "name": "characteristics[cell line]",
         "rawType": "object",
         "type": "string"
        },
        {
         "name": "characteristics[cell type]",
         "rawType": "object",
         "type": "string"
        },
        {
         "name": "characteristics[cellosaurus]",
         "rawType": "object",
         "type": "string"
        },
        {
         "name": "characteristics[batch]",
         "rawType": "object",
         "type": "string"
        },
        {
         "name": "characteristics[biological replicate]",
         "rawType": "int64",
         "type": "integer"
        },
        {
         "name": "Material Type",
         "rawType": "object",
         "type": "string"
        },
        {
         "name": "assay name",
         "rawType": "object",
         "type": "string"
        },
        {
         "name": "technology type",
         "rawType": "object",
         "type": "string"
        },
        {
         "name": "comment[data file]",
         "rawType": "object",
         "type": "string"
        },
        {
         "name": "comment[file uri]",
         "rawType": "object",
         "type": "string"
        },
        {
         "name": "comment[proteomics data acquisition method]",
         "rawType": "object",
         "type": "string"
        },
        {
         "name": "comment[label]",
         "rawType": "object",
         "type": "string"
        },
        {
         "name": "comment[fraction identifier]",
         "rawType": "int64",
         "type": "integer"
        },
        {
         "name": "comment[technical replicate]",
         "rawType": "int64",
         "type": "integer"
        },
        {
         "name": "comment[instrument]",
         "rawType": "object",
         "type": "string"
        },
        {
         "name": "comment[instrument identifier]",
         "rawType": "object",
         "type": "string"
        },
        {
         "name": "comment[cleavage agent details]",
         "rawType": "object",
         "type": "string"
        },
        {
         "name": "comment[modification parameters]",
         "rawType": "object",
         "type": "string"
        },
        {
         "name": "comment[precursor mass tolerance]",
         "rawType": "object",
         "type": "string"
        },
        {
         "name": "comment[fragment mass tolerance]",
         "rawType": "object",
         "type": "string"
        },
        {
         "name": "comment[MS1 scan range]",
         "rawType": "object",
         "type": "string"
        },
        {
         "name": "comment[MS2 scan range]",
         "rawType": "object",
         "type": "string"
        },
        {
         "name": "factor value[cell line]",
         "rawType": "object",
         "type": "string"
        }
       ],
       "ref": "50298a55-a82f-4299-8bef-db687650ba2c",
       "rows": [
        [
         "0",
         "AAAS",
         "190529_5510_007ZV_00BL5_M03_S_1.mzML",
         "0.0",
         "PXD030304-Sample-1563",
         "Homo sapiens",
         "Blood",
         "Peripheral blood",
         "20Y",
         "Adult",
         "Male",
         "Japanese",
         "Myelodysplastic syndrome",
         "MOLM-13",
         "MOLM-13",
         "CVCL_2119",
         "P03",
         "1",
         "cell",
         "Run 4",
         "proteomic profiling by mass spectrometry",
         "190529_5510_007ZV_00BL5_M03_S_1.mzML",
         "190529_5510_007ZV_00BL5_M03_S_1.mzML",
         "NT=Data-Independent Acquisition;AC=NCIT:C161786",
         "AC=MS:1002038;NT=label free sample",
         "1",
         "1",
         "NT=TripleTOF 6600;AC=MS:1002533",
         "M02",
         "AC=MS:1001251;NT=Trypsin",
         "NT=Carbamidomethyl;AC=UNIMOD:4;TA=C;MT=Fixed",
         "40 ppm",
         "40 ppm",
         "400m/z-1250m/z",
         "100m/z-2000m/z",
         "MOLM-13"
        ],
        [
         "1",
         "AAGAB",
         "190529_5510_007ZV_00BL5_M03_S_1.mzML",
         "0.0",
         "PXD030304-Sample-1563",
         "Homo sapiens",
         "Blood",
         "Peripheral blood",
         "20Y",
         "Adult",
         "Male",
         "Japanese",
         "Myelodysplastic syndrome",
         "MOLM-13",
         "MOLM-13",
         "CVCL_2119",
         "P03",
         "1",
         "cell",
         "Run 4",
         "proteomic profiling by mass spectrometry",
         "190529_5510_007ZV_00BL5_M03_S_1.mzML",
         "190529_5510_007ZV_00BL5_M03_S_1.mzML",
         "NT=Data-Independent Acquisition;AC=NCIT:C161786",
         "AC=MS:1002038;NT=label free sample",
         "1",
         "1",
         "NT=TripleTOF 6600;AC=MS:1002533",
         "M02",
         "AC=MS:1001251;NT=Trypsin",
         "NT=Carbamidomethyl;AC=UNIMOD:4;TA=C;MT=Fixed",
         "40 ppm",
         "40 ppm",
         "400m/z-1250m/z",
         "100m/z-2000m/z",
         "MOLM-13"
        ],
        [
         "2",
         "AAK1",
         "190529_5510_007ZV_00BL5_M03_S_1.mzML",
         "0.0",
         "PXD030304-Sample-1563",
         "Homo sapiens",
         "Blood",
         "Peripheral blood",
         "20Y",
         "Adult",
         "Male",
         "Japanese",
         "Myelodysplastic syndrome",
         "MOLM-13",
         "MOLM-13",
         "CVCL_2119",
         "P03",
         "1",
         "cell",
         "Run 4",
         "proteomic profiling by mass spectrometry",
         "190529_5510_007ZV_00BL5_M03_S_1.mzML",
         "190529_5510_007ZV_00BL5_M03_S_1.mzML",
         "NT=Data-Independent Acquisition;AC=NCIT:C161786",
         "AC=MS:1002038;NT=label free sample",
         "1",
         "1",
         "NT=TripleTOF 6600;AC=MS:1002533",
         "M02",
         "AC=MS:1001251;NT=Trypsin",
         "NT=Carbamidomethyl;AC=UNIMOD:4;TA=C;MT=Fixed",
         "40 ppm",
         "40 ppm",
         "400m/z-1250m/z",
         "100m/z-2000m/z",
         "MOLM-13"
        ],
        [
         "3",
         "AAMP",
         "190529_5510_007ZV_00BL5_M03_S_1.mzML",
         "0.0",
         "PXD030304-Sample-1563",
         "Homo sapiens",
         "Blood",
         "Peripheral blood",
         "20Y",
         "Adult",
         "Male",
         "Japanese",
         "Myelodysplastic syndrome",
         "MOLM-13",
         "MOLM-13",
         "CVCL_2119",
         "P03",
         "1",
         "cell",
         "Run 4",
         "proteomic profiling by mass spectrometry",
         "190529_5510_007ZV_00BL5_M03_S_1.mzML",
         "190529_5510_007ZV_00BL5_M03_S_1.mzML",
         "NT=Data-Independent Acquisition;AC=NCIT:C161786",
         "AC=MS:1002038;NT=label free sample",
         "1",
         "1",
         "NT=TripleTOF 6600;AC=MS:1002533",
         "M02",
         "AC=MS:1001251;NT=Trypsin",
         "NT=Carbamidomethyl;AC=UNIMOD:4;TA=C;MT=Fixed",
         "40 ppm",
         "40 ppm",
         "400m/z-1250m/z",
         "100m/z-2000m/z",
         "MOLM-13"
        ],
        [
         "4",
         "AARS1",
         "190529_5510_007ZV_00BL5_M03_S_1.mzML",
         "9183.15",
         "PXD030304-Sample-1563",
         "Homo sapiens",
         "Blood",
         "Peripheral blood",
         "20Y",
         "Adult",
         "Male",
         "Japanese",
         "Myelodysplastic syndrome",
         "MOLM-13",
         "MOLM-13",
         "CVCL_2119",
         "P03",
         "1",
         "cell",
         "Run 4",
         "proteomic profiling by mass spectrometry",
         "190529_5510_007ZV_00BL5_M03_S_1.mzML",
         "190529_5510_007ZV_00BL5_M03_S_1.mzML",
         "NT=Data-Independent Acquisition;AC=NCIT:C161786",
         "AC=MS:1002038;NT=label free sample",
         "1",
         "1",
         "NT=TripleTOF 6600;AC=MS:1002533",
         "M02",
         "AC=MS:1001251;NT=Trypsin",
         "NT=Carbamidomethyl;AC=UNIMOD:4;TA=C;MT=Fixed",
         "40 ppm",
         "40 ppm",
         "400m/z-1250m/z",
         "100m/z-2000m/z",
         "MOLM-13"
        ]
       ],
       "shape": {
        "columns": 35,
        "rows": 5
       }
      },
      "text/html": [
       "<div>\n",
       "<style scoped>\n",
       "    .dataframe tbody tr th:only-of-type {\n",
       "        vertical-align: middle;\n",
       "    }\n",
       "\n",
       "    .dataframe tbody tr th {\n",
       "        vertical-align: top;\n",
       "    }\n",
       "\n",
       "    .dataframe thead th {\n",
       "        text-align: right;\n",
       "    }\n",
       "</style>\n",
       "<table border=\"1\" class=\"dataframe\">\n",
       "  <thead>\n",
       "    <tr style=\"text-align: right;\">\n",
       "      <th></th>\n",
       "      <th>Genes</th>\n",
       "      <th>Samples</th>\n",
       "      <th>Intensity</th>\n",
       "      <th>source name</th>\n",
       "      <th>characteristics[organism]</th>\n",
       "      <th>characteristics[organism part]</th>\n",
       "      <th>characteristics[sampling site]</th>\n",
       "      <th>characteristics[age]</th>\n",
       "      <th>characteristics[developmental stage]</th>\n",
       "      <th>characteristics[sex]</th>\n",
       "      <th>...</th>\n",
       "      <th>comment[technical replicate]</th>\n",
       "      <th>comment[instrument]</th>\n",
       "      <th>comment[instrument identifier]</th>\n",
       "      <th>comment[cleavage agent details]</th>\n",
       "      <th>comment[modification parameters]</th>\n",
       "      <th>comment[precursor mass tolerance]</th>\n",
       "      <th>comment[fragment mass tolerance]</th>\n",
       "      <th>comment[MS1 scan range]</th>\n",
       "      <th>comment[MS2 scan range]</th>\n",
       "      <th>factor value[cell line]</th>\n",
       "    </tr>\n",
       "  </thead>\n",
       "  <tbody>\n",
       "    <tr>\n",
       "      <th>0</th>\n",
       "      <td>AAAS</td>\n",
       "      <td>190529_5510_007ZV_00BL5_M03_S_1.mzML</td>\n",
       "      <td>0.00</td>\n",
       "      <td>PXD030304-Sample-1563</td>\n",
       "      <td>Homo sapiens</td>\n",
       "      <td>Blood</td>\n",
       "      <td>Peripheral blood</td>\n",
       "      <td>20Y</td>\n",
       "      <td>Adult</td>\n",
       "      <td>Male</td>\n",
       "      <td>...</td>\n",
       "      <td>1</td>\n",
       "      <td>NT=TripleTOF 6600;AC=MS:1002533</td>\n",
       "      <td>M02</td>\n",
       "      <td>AC=MS:1001251;NT=Trypsin</td>\n",
       "      <td>NT=Carbamidomethyl;AC=UNIMOD:4;TA=C;MT=Fixed</td>\n",
       "      <td>40 ppm</td>\n",
       "      <td>40 ppm</td>\n",
       "      <td>400m/z-1250m/z</td>\n",
       "      <td>100m/z-2000m/z</td>\n",
       "      <td>MOLM-13</td>\n",
       "    </tr>\n",
       "    <tr>\n",
       "      <th>1</th>\n",
       "      <td>AAGAB</td>\n",
       "      <td>190529_5510_007ZV_00BL5_M03_S_1.mzML</td>\n",
       "      <td>0.00</td>\n",
       "      <td>PXD030304-Sample-1563</td>\n",
       "      <td>Homo sapiens</td>\n",
       "      <td>Blood</td>\n",
       "      <td>Peripheral blood</td>\n",
       "      <td>20Y</td>\n",
       "      <td>Adult</td>\n",
       "      <td>Male</td>\n",
       "      <td>...</td>\n",
       "      <td>1</td>\n",
       "      <td>NT=TripleTOF 6600;AC=MS:1002533</td>\n",
       "      <td>M02</td>\n",
       "      <td>AC=MS:1001251;NT=Trypsin</td>\n",
       "      <td>NT=Carbamidomethyl;AC=UNIMOD:4;TA=C;MT=Fixed</td>\n",
       "      <td>40 ppm</td>\n",
       "      <td>40 ppm</td>\n",
       "      <td>400m/z-1250m/z</td>\n",
       "      <td>100m/z-2000m/z</td>\n",
       "      <td>MOLM-13</td>\n",
       "    </tr>\n",
       "    <tr>\n",
       "      <th>2</th>\n",
       "      <td>AAK1</td>\n",
       "      <td>190529_5510_007ZV_00BL5_M03_S_1.mzML</td>\n",
       "      <td>0.00</td>\n",
       "      <td>PXD030304-Sample-1563</td>\n",
       "      <td>Homo sapiens</td>\n",
       "      <td>Blood</td>\n",
       "      <td>Peripheral blood</td>\n",
       "      <td>20Y</td>\n",
       "      <td>Adult</td>\n",
       "      <td>Male</td>\n",
       "      <td>...</td>\n",
       "      <td>1</td>\n",
       "      <td>NT=TripleTOF 6600;AC=MS:1002533</td>\n",
       "      <td>M02</td>\n",
       "      <td>AC=MS:1001251;NT=Trypsin</td>\n",
       "      <td>NT=Carbamidomethyl;AC=UNIMOD:4;TA=C;MT=Fixed</td>\n",
       "      <td>40 ppm</td>\n",
       "      <td>40 ppm</td>\n",
       "      <td>400m/z-1250m/z</td>\n",
       "      <td>100m/z-2000m/z</td>\n",
       "      <td>MOLM-13</td>\n",
       "    </tr>\n",
       "    <tr>\n",
       "      <th>3</th>\n",
       "      <td>AAMP</td>\n",
       "      <td>190529_5510_007ZV_00BL5_M03_S_1.mzML</td>\n",
       "      <td>0.00</td>\n",
       "      <td>PXD030304-Sample-1563</td>\n",
       "      <td>Homo sapiens</td>\n",
       "      <td>Blood</td>\n",
       "      <td>Peripheral blood</td>\n",
       "      <td>20Y</td>\n",
       "      <td>Adult</td>\n",
       "      <td>Male</td>\n",
       "      <td>...</td>\n",
       "      <td>1</td>\n",
       "      <td>NT=TripleTOF 6600;AC=MS:1002533</td>\n",
       "      <td>M02</td>\n",
       "      <td>AC=MS:1001251;NT=Trypsin</td>\n",
       "      <td>NT=Carbamidomethyl;AC=UNIMOD:4;TA=C;MT=Fixed</td>\n",
       "      <td>40 ppm</td>\n",
       "      <td>40 ppm</td>\n",
       "      <td>400m/z-1250m/z</td>\n",
       "      <td>100m/z-2000m/z</td>\n",
       "      <td>MOLM-13</td>\n",
       "    </tr>\n",
       "    <tr>\n",
       "      <th>4</th>\n",
       "      <td>AARS1</td>\n",
       "      <td>190529_5510_007ZV_00BL5_M03_S_1.mzML</td>\n",
       "      <td>9183.15</td>\n",
       "      <td>PXD030304-Sample-1563</td>\n",
       "      <td>Homo sapiens</td>\n",
       "      <td>Blood</td>\n",
       "      <td>Peripheral blood</td>\n",
       "      <td>20Y</td>\n",
       "      <td>Adult</td>\n",
       "      <td>Male</td>\n",
       "      <td>...</td>\n",
       "      <td>1</td>\n",
       "      <td>NT=TripleTOF 6600;AC=MS:1002533</td>\n",
       "      <td>M02</td>\n",
       "      <td>AC=MS:1001251;NT=Trypsin</td>\n",
       "      <td>NT=Carbamidomethyl;AC=UNIMOD:4;TA=C;MT=Fixed</td>\n",
       "      <td>40 ppm</td>\n",
       "      <td>40 ppm</td>\n",
       "      <td>400m/z-1250m/z</td>\n",
       "      <td>100m/z-2000m/z</td>\n",
       "      <td>MOLM-13</td>\n",
       "    </tr>\n",
       "  </tbody>\n",
       "</table>\n",
       "<p>5 rows × 35 columns</p>\n",
       "</div>"
      ],
      "text/plain": [
       "   Genes                               Samples  Intensity  \\\n",
       "0   AAAS  190529_5510_007ZV_00BL5_M03_S_1.mzML       0.00   \n",
       "1  AAGAB  190529_5510_007ZV_00BL5_M03_S_1.mzML       0.00   \n",
       "2   AAK1  190529_5510_007ZV_00BL5_M03_S_1.mzML       0.00   \n",
       "3   AAMP  190529_5510_007ZV_00BL5_M03_S_1.mzML       0.00   \n",
       "4  AARS1  190529_5510_007ZV_00BL5_M03_S_1.mzML    9183.15   \n",
       "\n",
       "             source name characteristics[organism]  \\\n",
       "0  PXD030304-Sample-1563              Homo sapiens   \n",
       "1  PXD030304-Sample-1563              Homo sapiens   \n",
       "2  PXD030304-Sample-1563              Homo sapiens   \n",
       "3  PXD030304-Sample-1563              Homo sapiens   \n",
       "4  PXD030304-Sample-1563              Homo sapiens   \n",
       "\n",
       "  characteristics[organism part] characteristics[sampling site]  \\\n",
       "0                          Blood               Peripheral blood   \n",
       "1                          Blood               Peripheral blood   \n",
       "2                          Blood               Peripheral blood   \n",
       "3                          Blood               Peripheral blood   \n",
       "4                          Blood               Peripheral blood   \n",
       "\n",
       "  characteristics[age] characteristics[developmental stage]  \\\n",
       "0                  20Y                                Adult   \n",
       "1                  20Y                                Adult   \n",
       "2                  20Y                                Adult   \n",
       "3                  20Y                                Adult   \n",
       "4                  20Y                                Adult   \n",
       "\n",
       "  characteristics[sex]  ... comment[technical replicate]  \\\n",
       "0                 Male  ...                            1   \n",
       "1                 Male  ...                            1   \n",
       "2                 Male  ...                            1   \n",
       "3                 Male  ...                            1   \n",
       "4                 Male  ...                            1   \n",
       "\n",
       "               comment[instrument] comment[instrument identifier]  \\\n",
       "0  NT=TripleTOF 6600;AC=MS:1002533                            M02   \n",
       "1  NT=TripleTOF 6600;AC=MS:1002533                            M02   \n",
       "2  NT=TripleTOF 6600;AC=MS:1002533                            M02   \n",
       "3  NT=TripleTOF 6600;AC=MS:1002533                            M02   \n",
       "4  NT=TripleTOF 6600;AC=MS:1002533                            M02   \n",
       "\n",
       "  comment[cleavage agent details]  \\\n",
       "0        AC=MS:1001251;NT=Trypsin   \n",
       "1        AC=MS:1001251;NT=Trypsin   \n",
       "2        AC=MS:1001251;NT=Trypsin   \n",
       "3        AC=MS:1001251;NT=Trypsin   \n",
       "4        AC=MS:1001251;NT=Trypsin   \n",
       "\n",
       "               comment[modification parameters]  \\\n",
       "0  NT=Carbamidomethyl;AC=UNIMOD:4;TA=C;MT=Fixed   \n",
       "1  NT=Carbamidomethyl;AC=UNIMOD:4;TA=C;MT=Fixed   \n",
       "2  NT=Carbamidomethyl;AC=UNIMOD:4;TA=C;MT=Fixed   \n",
       "3  NT=Carbamidomethyl;AC=UNIMOD:4;TA=C;MT=Fixed   \n",
       "4  NT=Carbamidomethyl;AC=UNIMOD:4;TA=C;MT=Fixed   \n",
       "\n",
       "  comment[precursor mass tolerance]  comment[fragment mass tolerance]  \\\n",
       "0                            40 ppm                            40 ppm   \n",
       "1                            40 ppm                            40 ppm   \n",
       "2                            40 ppm                            40 ppm   \n",
       "3                            40 ppm                            40 ppm   \n",
       "4                            40 ppm                            40 ppm   \n",
       "\n",
       "  comment[MS1 scan range] comment[MS2 scan range] factor value[cell line]  \n",
       "0          400m/z-1250m/z          100m/z-2000m/z                 MOLM-13  \n",
       "1          400m/z-1250m/z          100m/z-2000m/z                 MOLM-13  \n",
       "2          400m/z-1250m/z          100m/z-2000m/z                 MOLM-13  \n",
       "3          400m/z-1250m/z          100m/z-2000m/z                 MOLM-13  \n",
       "4          400m/z-1250m/z          100m/z-2000m/z                 MOLM-13  \n",
       "\n",
       "[5 rows x 35 columns]"
      ]
     },
     "execution_count": 49,
     "metadata": {},
     "output_type": "execute_result"
    }
   ],
   "source": [
    "dr_plot_join.head()"
   ]
  },
  {
   "cell_type": "code",
   "execution_count": 62,
   "metadata": {},
   "outputs": [
    {
     "data": {
      "application/vnd.microsoft.datawrangler.viewer.v0+json": {
       "columns": [
        {
         "name": "index",
         "rawType": "int64",
         "type": "integer"
        },
        {
         "name": "Genes",
         "rawType": "object",
         "type": "string"
        },
        {
         "name": "Intensity",
         "rawType": "float64",
         "type": "float"
        }
       ],
       "ref": "2b893a36-7691-4e66-ae98-784ba6722296",
       "rows": [
        [
         "0",
         "AAAS",
         "1964.0941509433962"
        ],
        [
         "1",
         "AAGAB",
         "944.4713333333333"
        ],
        [
         "2",
         "AAK1",
         "1338.701342857143"
        ],
        [
         "3",
         "AAMP",
         "1171.9882903225807"
        ],
        [
         "4",
         "AARS1",
         "8146.1135"
        ],
        [
         "5",
         "AARS2",
         "1945.4286949152543"
        ],
        [
         "6",
         "AARSD1",
         "1367.8538666666666"
        ],
        [
         "7",
         "AASDHPPT",
         "1991.4755789473684"
        ],
        [
         "8",
         "AATF",
         "1913.2430370370369"
        ],
        [
         "9",
         "ABCB4",
         "39335.344814814816"
        ],
        [
         "10",
         "ABCB6",
         "68679.99535714286"
        ],
        [
         "11",
         "ABCC1",
         "1846.3467837837838"
        ],
        [
         "12",
         "ABCD3",
         "2829.6639999999998"
        ],
        [
         "13",
         "ABCE1",
         "3004.8903666666665"
        ],
        [
         "14",
         "ABCF1",
         "3148.188557377049"
        ],
        [
         "15",
         "ABCF2",
         "1674.0351296296296"
        ],
        [
         "16",
         "ABCF3",
         "927.8866976744185"
        ],
        [
         "17",
         "ABHD10",
         "5076.981322033898"
        ],
        [
         "18",
         "ABHD11",
         "3944.4650357142855"
        ],
        [
         "19",
         "ABHD12",
         "2383.883346153846"
        ],
        [
         "20",
         "ABHD14B",
         "2580.34012"
        ],
        [
         "21",
         "ABHD6",
         "4505.292844444445"
        ],
        [
         "22",
         "ABI1",
         "2163.0467399999998"
        ],
        [
         "23",
         "ABI2",
         "831.3952411764706"
        ],
        [
         "24",
         "ABRACL",
         "2575.252754385965"
        ],
        [
         "25",
         "ABT1",
         "967.9795384615384"
        ],
        [
         "26",
         "ACAA1",
         "3459.7991666666667"
        ],
        [
         "27",
         "ACAA2",
         "7903.776545454546"
        ],
        [
         "28",
         "ACACA",
         "1140.3738541666667"
        ],
        [
         "29",
         "ACAD8",
         "987.2185454545454"
        ],
        [
         "30",
         "ACAD9",
         "2524.575918032787"
        ],
        [
         "31",
         "ACADM",
         "7957.995295081967"
        ],
        [
         "32",
         "ACADSB",
         "2708.859296296296"
        ],
        [
         "33",
         "ACADVL",
         "11285.443800000001"
        ],
        [
         "34",
         "ACAP1",
         "6839.150892857143"
        ],
        [
         "35",
         "ACAP2",
         "1080.8963125"
        ],
        [
         "36",
         "ACAT1",
         "16561.276229508196"
        ],
        [
         "37",
         "ACAT2",
         "3944.6875344827586"
        ],
        [
         "38",
         "ACBD3",
         "1091.2761384615385"
        ],
        [
         "39",
         "ACBD5",
         "1487.648163265306"
        ],
        [
         "40",
         "ACIN1",
         "7091.974426229508"
        ],
        [
         "41",
         "ACLY",
         "6716.51737704918"
        ],
        [
         "42",
         "ACO1",
         "1574.9883170731707"
        ],
        [
         "43",
         "ACO2",
         "10355.611967213114"
        ],
        [
         "44",
         "ACOT13",
         "6018.4011666666665"
        ],
        [
         "45",
         "ACOT7",
         "8712.16115"
        ],
        [
         "46",
         "ACOT8",
         "1696.087393939394"
        ],
        [
         "47",
         "ACOT9",
         "3780.6425357142857"
        ],
        [
         "48",
         "ACOX1",
         "1814.0407435897437"
        ],
        [
         "49",
         "ACP1",
         "8393.515155172414"
        ]
       ],
       "shape": {
        "columns": 2,
        "rows": 100
       }
      },
      "text/html": [
       "<div>\n",
       "<style scoped>\n",
       "    .dataframe tbody tr th:only-of-type {\n",
       "        vertical-align: middle;\n",
       "    }\n",
       "\n",
       "    .dataframe tbody tr th {\n",
       "        vertical-align: top;\n",
       "    }\n",
       "\n",
       "    .dataframe thead th {\n",
       "        text-align: right;\n",
       "    }\n",
       "</style>\n",
       "<table border=\"1\" class=\"dataframe\">\n",
       "  <thead>\n",
       "    <tr style=\"text-align: right;\">\n",
       "      <th></th>\n",
       "      <th>Genes</th>\n",
       "      <th>Intensity</th>\n",
       "    </tr>\n",
       "  </thead>\n",
       "  <tbody>\n",
       "    <tr>\n",
       "      <th>0</th>\n",
       "      <td>AAAS</td>\n",
       "      <td>1964.094151</td>\n",
       "    </tr>\n",
       "    <tr>\n",
       "      <th>1</th>\n",
       "      <td>AAGAB</td>\n",
       "      <td>944.471333</td>\n",
       "    </tr>\n",
       "    <tr>\n",
       "      <th>2</th>\n",
       "      <td>AAK1</td>\n",
       "      <td>1338.701343</td>\n",
       "    </tr>\n",
       "    <tr>\n",
       "      <th>3</th>\n",
       "      <td>AAMP</td>\n",
       "      <td>1171.988290</td>\n",
       "    </tr>\n",
       "    <tr>\n",
       "      <th>4</th>\n",
       "      <td>AARS1</td>\n",
       "      <td>8146.113500</td>\n",
       "    </tr>\n",
       "    <tr>\n",
       "      <th>...</th>\n",
       "      <td>...</td>\n",
       "      <td>...</td>\n",
       "    </tr>\n",
       "    <tr>\n",
       "      <th>95</th>\n",
       "      <td>AHNAK</td>\n",
       "      <td>70081.389344</td>\n",
       "    </tr>\n",
       "    <tr>\n",
       "      <th>96</th>\n",
       "      <td>AHNAK2</td>\n",
       "      <td>8118.368736</td>\n",
       "    </tr>\n",
       "    <tr>\n",
       "      <th>97</th>\n",
       "      <td>AHSA1</td>\n",
       "      <td>5344.981197</td>\n",
       "    </tr>\n",
       "    <tr>\n",
       "      <th>98</th>\n",
       "      <td>AHSG</td>\n",
       "      <td>1782.415592</td>\n",
       "    </tr>\n",
       "    <tr>\n",
       "      <th>99</th>\n",
       "      <td>AIDA</td>\n",
       "      <td>1203.343333</td>\n",
       "    </tr>\n",
       "  </tbody>\n",
       "</table>\n",
       "<p>100 rows × 2 columns</p>\n",
       "</div>"
      ],
      "text/plain": [
       "     Genes     Intensity\n",
       "0     AAAS   1964.094151\n",
       "1    AAGAB    944.471333\n",
       "2     AAK1   1338.701343\n",
       "3     AAMP   1171.988290\n",
       "4    AARS1   8146.113500\n",
       "..     ...           ...\n",
       "95   AHNAK  70081.389344\n",
       "96  AHNAK2   8118.368736\n",
       "97   AHSA1   5344.981197\n",
       "98    AHSG   1782.415592\n",
       "99    AIDA   1203.343333\n",
       "\n",
       "[100 rows x 2 columns]"
      ]
     },
     "execution_count": 62,
     "metadata": {},
     "output_type": "execute_result"
    }
   ],
   "source": [
    "# Find average intensity per genes\n",
    "avg_intensity = dr_plot.groupby('Genes')['Intensity'].mean().reset_index()\n",
    "# Sort by average intensity\n",
    "avg_intensity.sort_values(by='Genes', ascending=True, inplace=True)\n",
    "# Reset index\n",
    "avg_intensity.reset_index(drop=True, inplace=True)  \n",
    "avg_intensity.head(100)"
   ]
  },
  {
   "cell_type": "code",
   "execution_count": 55,
   "metadata": {},
   "outputs": [
    {
     "data": {
      "application/vnd.microsoft.datawrangler.viewer.v0+json": {
       "columns": [
        {
         "name": "index",
         "rawType": "int64",
         "type": "integer"
        },
        {
         "name": "Genes",
         "rawType": "object",
         "type": "string"
        },
        {
         "name": "characteristics[organism part]",
         "rawType": "object",
         "type": "string"
        },
        {
         "name": "Average_Tissue_Intensity",
         "rawType": "float64",
         "type": "float"
        }
       ],
       "ref": "62906376-e6f7-495a-98c5-dec42eb004c1",
       "rows": [
        [
         "0",
         "AAAS",
         "Blood",
         "1084.7775"
        ],
        [
         "1",
         "AAAS",
         "Bone",
         "2121.685"
        ],
        [
         "2",
         "AAAS",
         "Brain",
         "2225.826"
        ],
        [
         "3",
         "AAAS",
         "Breast",
         "2435.4516666666664"
        ],
        [
         "4",
         "AAAS",
         "Esophagus",
         "2974.2999999999997"
        ]
       ],
       "shape": {
        "columns": 3,
        "rows": 5
       }
      },
      "text/html": [
       "<div>\n",
       "<style scoped>\n",
       "    .dataframe tbody tr th:only-of-type {\n",
       "        vertical-align: middle;\n",
       "    }\n",
       "\n",
       "    .dataframe tbody tr th {\n",
       "        vertical-align: top;\n",
       "    }\n",
       "\n",
       "    .dataframe thead th {\n",
       "        text-align: right;\n",
       "    }\n",
       "</style>\n",
       "<table border=\"1\" class=\"dataframe\">\n",
       "  <thead>\n",
       "    <tr style=\"text-align: right;\">\n",
       "      <th></th>\n",
       "      <th>Genes</th>\n",
       "      <th>characteristics[organism part]</th>\n",
       "      <th>Average_Tissue_Intensity</th>\n",
       "    </tr>\n",
       "  </thead>\n",
       "  <tbody>\n",
       "    <tr>\n",
       "      <th>0</th>\n",
       "      <td>AAAS</td>\n",
       "      <td>Blood</td>\n",
       "      <td>1084.777500</td>\n",
       "    </tr>\n",
       "    <tr>\n",
       "      <th>1</th>\n",
       "      <td>AAAS</td>\n",
       "      <td>Bone</td>\n",
       "      <td>2121.685000</td>\n",
       "    </tr>\n",
       "    <tr>\n",
       "      <th>2</th>\n",
       "      <td>AAAS</td>\n",
       "      <td>Brain</td>\n",
       "      <td>2225.826000</td>\n",
       "    </tr>\n",
       "    <tr>\n",
       "      <th>3</th>\n",
       "      <td>AAAS</td>\n",
       "      <td>Breast</td>\n",
       "      <td>2435.451667</td>\n",
       "    </tr>\n",
       "    <tr>\n",
       "      <th>4</th>\n",
       "      <td>AAAS</td>\n",
       "      <td>Esophagus</td>\n",
       "      <td>2974.300000</td>\n",
       "    </tr>\n",
       "  </tbody>\n",
       "</table>\n",
       "</div>"
      ],
      "text/plain": [
       "  Genes characteristics[organism part]  Average_Tissue_Intensity\n",
       "0  AAAS                          Blood               1084.777500\n",
       "1  AAAS                           Bone               2121.685000\n",
       "2  AAAS                          Brain               2225.826000\n",
       "3  AAAS                         Breast               2435.451667\n",
       "4  AAAS                      Esophagus               2974.300000"
      ]
     },
     "execution_count": 55,
     "metadata": {},
     "output_type": "execute_result"
    }
   ],
   "source": [
    "# Find average expression per tissue\n",
    "avg_intensity_tissue = dr_plot.groupby(['Genes', 'characteristics[organism part]'])['Intensity'].mean().reset_index()\n",
    "#reanme column Intensity to Average_Intensity\n",
    "avg_intensity_tissue.rename(columns={'Intensity': 'Average_Tissue_Intensity'}, inplace=True)\n",
    "\n",
    "avg_intensity_tissue.head()"
   ]
  },
  {
   "cell_type": "code",
   "execution_count": 70,
   "metadata": {},
   "outputs": [
    {
     "data": {
      "application/vnd.microsoft.datawrangler.viewer.v0+json": {
       "columns": [
        {
         "name": "index",
         "rawType": "int64",
         "type": "integer"
        },
        {
         "name": "Genes",
         "rawType": "object",
         "type": "string"
        },
        {
         "name": "Intensity",
         "rawType": "float64",
         "type": "float"
        },
        {
         "name": "characteristics[organism part]",
         "rawType": "object",
         "type": "string"
        },
        {
         "name": "Average_Tissue_Intensity",
         "rawType": "float64",
         "type": "float"
        },
        {
         "name": "Tissue_Ratio",
         "rawType": "float64",
         "type": "float"
        }
       ],
       "ref": "1502b337-5e0d-48f0-84ca-fc18b263251f",
       "rows": [
        [
         "665",
         "ACYP1",
         "1946.0394594594595",
         "Lung",
         "6724.577499999999",
         "3.4555196028079758"
        ],
        [
         "1149",
         "AKR1B1",
         "15155.939661016948",
         "Kidney",
         "60519.06",
         "3.9930919067765167"
        ],
        [
         "1255",
         "ALDH4A1",
         "4300.933055555556",
         "Breast",
         "16805.296666666665",
         "3.907360670252494"
        ],
        [
         "1283",
         "ALDH7A1",
         "10061.86196",
         "Bone",
         "35807.3",
         "3.558715090939292"
        ],
        [
         "1756",
         "APOL2",
         "3348.251043478261",
         "Haematopoietic and Lymphoid",
         "27720.2",
         "8.279008843734562"
        ]
       ],
       "shape": {
        "columns": 5,
        "rows": 5
       }
      },
      "text/html": [
       "<div>\n",
       "<style scoped>\n",
       "    .dataframe tbody tr th:only-of-type {\n",
       "        vertical-align: middle;\n",
       "    }\n",
       "\n",
       "    .dataframe tbody tr th {\n",
       "        vertical-align: top;\n",
       "    }\n",
       "\n",
       "    .dataframe thead th {\n",
       "        text-align: right;\n",
       "    }\n",
       "</style>\n",
       "<table border=\"1\" class=\"dataframe\">\n",
       "  <thead>\n",
       "    <tr style=\"text-align: right;\">\n",
       "      <th></th>\n",
       "      <th>Genes</th>\n",
       "      <th>Intensity</th>\n",
       "      <th>characteristics[organism part]</th>\n",
       "      <th>Average_Tissue_Intensity</th>\n",
       "      <th>Tissue_Ratio</th>\n",
       "    </tr>\n",
       "  </thead>\n",
       "  <tbody>\n",
       "    <tr>\n",
       "      <th>665</th>\n",
       "      <td>ACYP1</td>\n",
       "      <td>1946.039459</td>\n",
       "      <td>Lung</td>\n",
       "      <td>6724.577500</td>\n",
       "      <td>3.455520</td>\n",
       "    </tr>\n",
       "    <tr>\n",
       "      <th>1149</th>\n",
       "      <td>AKR1B1</td>\n",
       "      <td>15155.939661</td>\n",
       "      <td>Kidney</td>\n",
       "      <td>60519.060000</td>\n",
       "      <td>3.993092</td>\n",
       "    </tr>\n",
       "    <tr>\n",
       "      <th>1255</th>\n",
       "      <td>ALDH4A1</td>\n",
       "      <td>4300.933056</td>\n",
       "      <td>Breast</td>\n",
       "      <td>16805.296667</td>\n",
       "      <td>3.907361</td>\n",
       "    </tr>\n",
       "    <tr>\n",
       "      <th>1283</th>\n",
       "      <td>ALDH7A1</td>\n",
       "      <td>10061.861960</td>\n",
       "      <td>Bone</td>\n",
       "      <td>35807.300000</td>\n",
       "      <td>3.558715</td>\n",
       "    </tr>\n",
       "    <tr>\n",
       "      <th>1756</th>\n",
       "      <td>APOL2</td>\n",
       "      <td>3348.251043</td>\n",
       "      <td>Haematopoietic and Lymphoid</td>\n",
       "      <td>27720.200000</td>\n",
       "      <td>8.279009</td>\n",
       "    </tr>\n",
       "  </tbody>\n",
       "</table>\n",
       "</div>"
      ],
      "text/plain": [
       "        Genes     Intensity characteristics[organism part]  \\\n",
       "665     ACYP1   1946.039459                           Lung   \n",
       "1149   AKR1B1  15155.939661                         Kidney   \n",
       "1255  ALDH4A1   4300.933056                         Breast   \n",
       "1283  ALDH7A1  10061.861960                           Bone   \n",
       "1756    APOL2   3348.251043    Haematopoietic and Lymphoid   \n",
       "\n",
       "      Average_Tissue_Intensity  Tissue_Ratio  \n",
       "665                6724.577500      3.455520  \n",
       "1149              60519.060000      3.993092  \n",
       "1255              16805.296667      3.907361  \n",
       "1283              35807.300000      3.558715  \n",
       "1756              27720.200000      8.279009  "
      ]
     },
     "execution_count": 70,
     "metadata": {},
     "output_type": "execute_result"
    }
   ],
   "source": [
    "# Calculate tissue ratio of average in each gene\n",
    "\n",
    "# join avg_intensity with avg_intensity_tissue\n",
    "avg_intensity_joined = avg_intensity.merge(avg_intensity_tissue, on='Genes', how='left')\n",
    "\n",
    "# Calculate ratio\n",
    "avg_intensity_joined['Tissue_Ratio'] = avg_intensity_joined['Average_Tissue_Intensity'] / avg_intensity_joined['Intensity']\n",
    "# Filter ratio greater than 2\n",
    "avg_intensity_joined = avg_intensity_joined[avg_intensity_joined['Tissue_Ratio'] > 3]\n",
    "avg_intensity_joined.head()"
   ]
  },
  {
   "cell_type": "code",
   "execution_count": null,
   "metadata": {},
   "outputs": [
    {
     "data": {
      "application/vnd.microsoft.datawrangler.viewer.v0+json": {
       "columns": [
        {
         "name": "index",
         "rawType": "int64",
         "type": "integer"
        },
        {
         "name": "Genes",
         "rawType": "object",
         "type": "string"
        },
        {
         "name": "Intensity",
         "rawType": "float64",
         "type": "float"
        },
        {
         "name": "characteristics[organism part]",
         "rawType": "object",
         "type": "string"
        },
        {
         "name": "Average_Tissue_Intensity",
         "rawType": "float64",
         "type": "float"
        },
        {
         "name": "Tissue_Ratio",
         "rawType": "float64",
         "type": "float"
        }
       ],
       "ref": "25dc3a2f-dd56-4bf8-b5e2-50b23cea6942",
       "rows": [
        [
         "2357",
         "ATOX1",
         "3164.1082978723402",
         "Skin",
         "9898.134",
         "3.1282538611765784"
        ],
        [
         "5839",
         "CRYBG1",
         "2134.1172258064516",
         "Skin",
         "7932.84",
         "3.717152883671747"
        ],
        [
         "8782",
         "EPPK1",
         "8309.315472222223",
         "Skin",
         "37852.6",
         "4.555441435162744"
        ],
        [
         "11184",
         "GSN",
         "8404.410389830507",
         "Skin",
         "28867.38666666667",
         "3.43479022652163"
        ],
        [
         "14106",
         "LGALS3",
         "38115.1382",
         "Skin",
         "145760.44999999998",
         "3.8242141281282294"
        ]
       ],
       "shape": {
        "columns": 5,
        "rows": 5
       }
      },
      "text/html": [
       "<div>\n",
       "<style scoped>\n",
       "    .dataframe tbody tr th:only-of-type {\n",
       "        vertical-align: middle;\n",
       "    }\n",
       "\n",
       "    .dataframe tbody tr th {\n",
       "        vertical-align: top;\n",
       "    }\n",
       "\n",
       "    .dataframe thead th {\n",
       "        text-align: right;\n",
       "    }\n",
       "</style>\n",
       "<table border=\"1\" class=\"dataframe\">\n",
       "  <thead>\n",
       "    <tr style=\"text-align: right;\">\n",
       "      <th></th>\n",
       "      <th>Genes</th>\n",
       "      <th>Intensity</th>\n",
       "      <th>characteristics[organism part]</th>\n",
       "      <th>Average_Tissue_Intensity</th>\n",
       "      <th>Tissue_Ratio</th>\n",
       "    </tr>\n",
       "  </thead>\n",
       "  <tbody>\n",
       "    <tr>\n",
       "      <th>2357</th>\n",
       "      <td>ATOX1</td>\n",
       "      <td>3164.108298</td>\n",
       "      <td>Skin</td>\n",
       "      <td>9898.134000</td>\n",
       "      <td>3.128254</td>\n",
       "    </tr>\n",
       "    <tr>\n",
       "      <th>5839</th>\n",
       "      <td>CRYBG1</td>\n",
       "      <td>2134.117226</td>\n",
       "      <td>Skin</td>\n",
       "      <td>7932.840000</td>\n",
       "      <td>3.717153</td>\n",
       "    </tr>\n",
       "    <tr>\n",
       "      <th>8782</th>\n",
       "      <td>EPPK1</td>\n",
       "      <td>8309.315472</td>\n",
       "      <td>Skin</td>\n",
       "      <td>37852.600000</td>\n",
       "      <td>4.555441</td>\n",
       "    </tr>\n",
       "    <tr>\n",
       "      <th>11184</th>\n",
       "      <td>GSN</td>\n",
       "      <td>8404.410390</td>\n",
       "      <td>Skin</td>\n",
       "      <td>28867.386667</td>\n",
       "      <td>3.434790</td>\n",
       "    </tr>\n",
       "    <tr>\n",
       "      <th>14106</th>\n",
       "      <td>LGALS3</td>\n",
       "      <td>38115.138200</td>\n",
       "      <td>Skin</td>\n",
       "      <td>145760.450000</td>\n",
       "      <td>3.824214</td>\n",
       "    </tr>\n",
       "  </tbody>\n",
       "</table>\n",
       "</div>"
      ],
      "text/plain": [
       "        Genes     Intensity characteristics[organism part]  \\\n",
       "2357    ATOX1   3164.108298                           Skin   \n",
       "5839   CRYBG1   2134.117226                           Skin   \n",
       "8782    EPPK1   8309.315472                           Skin   \n",
       "11184     GSN   8404.410390                           Skin   \n",
       "14106  LGALS3  38115.138200                           Skin   \n",
       "\n",
       "       Average_Tissue_Intensity  Tissue_Ratio  \n",
       "2357                9898.134000      3.128254  \n",
       "5839                7932.840000      3.717153  \n",
       "8782               37852.600000      4.555441  \n",
       "11184              28867.386667      3.434790  \n",
       "14106             145760.450000      3.824214  "
      ]
     },
     "execution_count": 69,
     "metadata": {},
     "output_type": "execute_result"
    }
   ],
   "source": [
    "# Look at your tissue \n",
    "tissue = 'Skin'\n",
    "# Filter by tissue\n",
    "avg_intensity_joined_skin = avg_intensity_joined[avg_intensity_joined['characteristics[organism part]'] == tissue]\n",
    "# Sort by Tissue_Ratio\n",
    "avg_intensity_joined_skin\n"
   ]
  },
  {
   "cell_type": "markdown",
   "metadata": {},
   "source": [
    "# Look at HPA\n",
    "\n",
    "\n",
    "In the search box, you can search multiple genes with this simple syntax:\n",
    "```\n",
    "gene_name:ACE2, INS\n",
    "```\n",
    "\n",
    "## Q7. \n",
    "**From HPA, do you see evidences of the tissue location?** \n",
    "Ans. \n",
    "\n",
    "## Q8. \n",
    "**Similarly, what can be the marker for your cell line?**\n"
   ]
  },
  {
   "cell_type": "code",
   "execution_count": 78,
   "metadata": {},
   "outputs": [
    {
     "name": "stderr",
     "output_type": "stream",
     "text": [
      "/tmp/ipykernel_511504/4170387935.py:10: FutureWarning: \n",
      "\n",
      "The `ci` parameter is deprecated. Use `errorbar=None` for the same effect.\n",
      "\n",
      "  sns.barplot(data=dr_plot_join_skin, x='factor value[cell line]', y='Intensity', hue='Genes',\n"
     ]
    },
    {
     "data": {
      "image/png": "[encoded data removed]",
      "text/plain": [
       "<Figure size 1200x600 with 1 Axes>"
      ]
     },
     "metadata": {},
     "output_type": "display_data"
    }
   ],
   "source": [
    "# Visualize protein expression for your markers\n",
    "\n",
    "# Filter with your avg_intensity_joined_skin['Genes'] from dr_plot_join\n",
    "dr_plot_join_skin = dr_plot_join[dr_plot_join['Genes'].isin(avg_intensity_joined_skin['Genes'].tolist())]\n",
    "# Reorder by Intensity\n",
    "dr_plot_join_skin\n",
    "\n",
    "# Dot plot of the markers in each cell line\n",
    "plt.figure(figsize=(12, 6))\n",
    "sns.barplot(data=dr_plot_join_skin, x='factor value[cell line]', y='Intensity', hue='Genes', \n",
    "            palette='Set2', ci=None)  # ci=None removes error bars\n",
    "plt.xticks(rotation=90)\n",
    "plt.title(f'Protein Expression in {tissue} Across Cell Lines')\n",
    "plt.xlabel('Cell Lines')\n",
    "plt.ylabel('Intensity')\n",
    "plt.tight_layout()\n",
    "plt.yscale('log')\n",
    "plt.legend(loc='upper left', bbox_to_anchor=(1, 1))\n",
    "plt.show()"
   ]
  },
  {
   "cell_type": "code",
   "execution_count": 88,
   "metadata": {},
   "outputs": [],
   "source": [
    "\n",
    "order = sdrf['factor value[cell line]'].unique().tolist()"
   ]
  },
  {
   "cell_type": "code",
   "execution_count": 92,
   "metadata": {},
   "outputs": [
    {
     "name": "stderr",
     "output_type": "stream",
     "text": [
      "/home/thanadol/Documents/GitHub/BC_25/env/lib/python3.10/site-packages/seaborn/axisgrid.py:723: UserWarning: Using the barplot function without specifying `hue_order` is likely to produce an incorrect plot.\n",
      "  warnings.warn(warning)\n",
      "/home/thanadol/Documents/GitHub/BC_25/env/lib/python3.10/site-packages/seaborn/axisgrid.py:854: FutureWarning: \n",
      "\n",
      "The `ci` parameter is deprecated. Use `errorbar=None` for the same effect.\n",
      "\n",
      "  func(*plot_args, **plot_kwargs)\n",
      "/home/thanadol/Documents/GitHub/BC_25/env/lib/python3.10/site-packages/seaborn/axisgrid.py:854: FutureWarning: \n",
      "\n",
      "The `ci` parameter is deprecated. Use `errorbar=None` for the same effect.\n",
      "\n",
      "  func(*plot_args, **plot_kwargs)\n",
      "/home/thanadol/Documents/GitHub/BC_25/env/lib/python3.10/site-packages/seaborn/axisgrid.py:854: FutureWarning: \n",
      "\n",
      "The `ci` parameter is deprecated. Use `errorbar=None` for the same effect.\n",
      "\n",
      "  func(*plot_args, **plot_kwargs)\n",
      "/home/thanadol/Documents/GitHub/BC_25/env/lib/python3.10/site-packages/seaborn/axisgrid.py:854: FutureWarning: \n",
      "\n",
      "The `ci` parameter is deprecated. Use `errorbar=None` for the same effect.\n",
      "\n",
      "  func(*plot_args, **plot_kwargs)\n",
      "/home/thanadol/Documents/GitHub/BC_25/env/lib/python3.10/site-packages/seaborn/axisgrid.py:854: FutureWarning: \n",
      "\n",
      "The `ci` parameter is deprecated. Use `errorbar=None` for the same effect.\n",
      "\n",
      "  func(*plot_args, **plot_kwargs)\n"
     ]
    },
    {
     "data": {
      "image/png": "[encoded data removed]",
      "text/plain": [
       "<Figure size 400x2000 with 5 Axes>"
      ]
     },
     "metadata": {},
     "output_type": "display_data"
    }
   ],
   "source": [
    "# Determine the order of 'factor value[cell line]' based on the desired logic (e.g., mean Intensity)\n",
    "# order = dr_plot_join_skin.groupby(\"factor value[cell line]\")[\"Intensity\"].mean().sort_values().index\n",
    "\n",
    "# Facet the bar plot by Genes and color by characteristics[organism part]\n",
    "g = sns.FacetGrid(dr_plot_join_skin, col=\"Genes\", col_wrap=1, sharey=True, height=4)\n",
    "g.map(sns.barplot, \"factor value[cell line]\", \"Intensity\", \"characteristics[organism part]\", \n",
    "      order=order, ci=None, palette=\"Set2\")\n",
    "g.set_xticklabels(rotation=90)\n",
    "g.set_axis_labels(\"Cell Lines\", \"Intensity\")\n",
    "# g.set(yscale=\"log\")  # Set y-axis to log scale\n",
    "g.fig.tight_layout()\n",
    "# \n",
    "plt.show()"
   ]
  }
 ],
 "metadata": {
  "kernelspec": {
   "display_name": "Python 3",
   "language": "python",
   "name": "python3"
  },
  "language_info": {
   "codemirror_mode": {
    "name": "ipython",
    "version": 3
   },
   "file_extension": ".py",
   "mimetype": "text/x-python",
   "name": "python",
   "nbconvert_exporter": "python",
   "pygments_lexer": "ipython3",
   "version": "3.10.18"
  }
 },
 "nbformat": 4,
 "nbformat_minor": 2
}
