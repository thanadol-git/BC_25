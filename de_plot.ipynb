{
 "cells": [
  {
   "cell_type": "code",
   "execution_count": null,
   "metadata": {},
   "outputs": [],
   "source": [
    "# libraries \n",
    "import numpy as np\n",
    "import pandas as pd\n",
    "# matplotlib\n",
    "import matplotlib.pyplot as plt\n",
    "# seaborn\n",
    "import seaborn as sns\n",
    "# sklearn\n",
    "\n",
    "# biomart\n",
    "from biomart import BiomartServer\n"
   ]
  },
  {
   "cell_type": "code",
   "execution_count": null,
   "metadata": {},
   "outputs": [],
   "source": [
    "# Download the results \n",
    "\n",
    "## DEx\n",
    "de_example = pd.read_csv('DE/GSE214615_signatureData.csv')\n",
    "de_example.head()\n"
   ]
  },
  {
   "cell_type": "code",
   "execution_count": null,
   "metadata": {},
   "outputs": [],
   "source": [
    "# -log adj.pvalue \n",
    "de_example['-log adj.pvalue'] = -np.log10(de_example['FDR_adjusted_P.value'])\n",
    "# Filter logcpm < 1\n",
    "de_example = de_example[de_example['logCPM'] >= 1]\n",
    "# Define thresholds\n",
    "abs_fc = 1.5  # Replace with your desired threshold for log_Folderchange\n",
    "threshold = 0.05  # Replace with your desired threshold for -log adj.pvalue\n",
    "\n",
    "# Add a new column 'color' based on the conditions\n",
    "de_example['color'] = de_example.apply(\n",
    "    lambda row: 'red' if row['Log_FoldChange'] < -abs_fc and row['-log adj.pvalue'] > threshold\n",
    "    else 'blue' if row['Log_FoldChange'] > abs_fc and row['-log adj.pvalue'] > threshold\n",
    "    else 'white',\n",
    "    axis=1\n",
    ")\n",
    "\n",
    "de_example.head()"
   ]
  },
  {
   "cell_type": "code",
   "execution_count": null,
   "metadata": {},
   "outputs": [],
   "source": [
    "# Select the top 20 points by -log adj.pvalue\n",
    "top_20 = de_example.nlargest(20, '-log adj.pvalue')\n",
    "\n",
    "# Volcano plot with points colored by the 'color' column\n",
    "plt.figure(figsize=(10, 6))\n",
    "sns.scatterplot(data=de_example, x='Log_FoldChange', y='-log adj.pvalue', hue='color', alpha=0.7, \n",
    "                palette={'red': 'red', 'blue': 'blue', 'white': 'gray'})\n",
    "\n",
    "# Add labels for the top 20 points\n",
    "for i, row in top_20.iterrows():\n",
    "    plt.text(row['Log_FoldChange'], row['-log adj.pvalue'], row['Gene_symbol'], \n",
    "             fontsize=8, ha='right', va='bottom')\n",
    "\n",
    "# Optional: Add threshold lines\n",
    "plt.axhline(y= threshold, color='grey', linestyle='--', label='FDR=0.05')\n",
    "plt.axvline(x=abs_fc, color='grey', linestyle='--', label='log2FC=1')\n",
    "plt.axvline(x=-abs_fc, color='grey', linestyle='--', label='log2FC=-1')\n",
    "\n",
    "plt.title('Volcano Plot of Differential Expression')\n",
    "plt.xlabel('Log2 Fold Change (log2FC)')\n",
    "plt.ylabel('-Log10 Adjusted P-value')\n",
    "\n",
    "plt.legend(title='Color')\n",
    "plt.grid(True)  \n",
    "plt.show()"
   ]
  },
  {
   "cell_type": "code",
   "execution_count": null,
   "metadata": {},
   "outputs": [],
   "source": [
    "# Export to HPA \n",
    "# Filter color that is not white\n",
    "de_example_filtered = de_example[de_example['color'] != 'white']\n",
    "gene_list = de_example_filtered['Ensembl_ID'].tolist() \n",
    "# Change character to capital"
   ]
  }
 ],
 "metadata": {
  "kernelspec": {
   "display_name": "Python 3",
   "language": "python",
   "name": "python3"
  },
  "language_info": {
   "codemirror_mode": {
    "name": "ipython",
    "version": 3
   },
   "file_extension": ".py",
   "mimetype": "text/x-python",
   "name": "python",
   "nbconvert_exporter": "python",
   "pygments_lexer": "ipython3",
   "version": "3.10.18"
  }
 },
 "nbformat": 4,
 "nbformat_minor": 2
}
