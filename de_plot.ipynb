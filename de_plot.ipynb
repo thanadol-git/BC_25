{
 "cells": [
  {
   "cell_type": "code",
   "execution_count": 5,
   "metadata": {},
   "outputs": [],
   "source": [
    "# libraries \n",
    "import numpy as np\n",
    "import pandas as pd\n",
    "# matplotlib\n",
    "import matplotlib.pyplot as plt\n",
    "# seaborn\n",
    "import seaborn as sns\n",
    "# sklearn\n",
    "\n",
    "# biomart\n",
    "from biomart import BiomartServer\n"
   ]
  },
  {
   "cell_type": "code",
   "execution_count": 6,
   "metadata": {},
   "outputs": [
    {
     "data": {
      "application/vnd.microsoft.datawrangler.viewer.v0+json": {
       "columns": [
        {
         "name": "index",
         "rawType": "int64",
         "type": "integer"
        },
        {
         "name": "Ensembl_ID",
         "rawType": "object",
         "type": "string"
        },
        {
         "name": "Gene_symbol",
         "rawType": "object",
         "type": "string"
        },
        {
         "name": "Log_FoldChange",
         "rawType": "float64",
         "type": "float"
        },
        {
         "name": "logCPM",
         "rawType": "float64",
         "type": "float"
        },
        {
         "name": "PValue",
         "rawType": "float64",
         "type": "float"
        },
        {
         "name": "FDR_adjusted_P.value",
         "rawType": "float64",
         "type": "float"
        },
        {
         "name": "Power",
         "rawType": "float64",
         "type": "float"
        },
        {
         "name": "BCOV",
         "rawType": "float64",
         "type": "float"
        },
        {
         "name": "minusPadj",
         "rawType": "float64",
         "type": "float"
        }
       ],
       "ref": "7c35bd42-cb03-49c1-b1f8-5b1131970f86",
       "rows": [
        [
         "0",
         "ENSMUSG00000034957",
         "Cebpa",
         "-9.26",
         "7.239",
         "1.7799999999999998e-95",
         "2.46e-91",
         "1.0",
         "0.251",
         "90.60833128"
        ],
        [
         "1",
         "ENSMUSG00000051748",
         "Wfdc21",
         "-5.62",
         "6.176",
         "6.11e-76",
         "4.22e-72",
         "1.0",
         "0.205",
         "71.37428243"
        ],
        [
         "2",
         "ENSMUSG00000024029",
         "Tff3",
         "4.262",
         "4.226",
         "9.79e-54",
         "4.52e-50",
         "1.0",
         "0.191",
         "49.3452836"
        ],
        [
         "3",
         "ENSMUSG00000029304",
         "Spp1",
         "5.531",
         "7.626",
         "6.81e-50",
         "2.36e-46",
         "1.0",
         "0.258",
         "45.62798132"
        ],
        [
         "4",
         "ENSMUSG00000074923",
         "Pak6",
         "8.618",
         "1.98",
         "1.31e-35",
         "3.62e-32",
         "1.0",
         "0.295",
         "31.4416888"
        ]
       ],
       "shape": {
        "columns": 9,
        "rows": 5
       }
      },
      "text/html": [
       "<div>\n",
       "<style scoped>\n",
       "    .dataframe tbody tr th:only-of-type {\n",
       "        vertical-align: middle;\n",
       "    }\n",
       "\n",
       "    .dataframe tbody tr th {\n",
       "        vertical-align: top;\n",
       "    }\n",
       "\n",
       "    .dataframe thead th {\n",
       "        text-align: right;\n",
       "    }\n",
       "</style>\n",
       "<table border=\"1\" class=\"dataframe\">\n",
       "  <thead>\n",
       "    <tr style=\"text-align: right;\">\n",
       "      <th></th>\n",
       "      <th>Ensembl_ID</th>\n",
       "      <th>Gene_symbol</th>\n",
       "      <th>Log_FoldChange</th>\n",
       "      <th>logCPM</th>\n",
       "      <th>PValue</th>\n",
       "      <th>FDR_adjusted_P.value</th>\n",
       "      <th>Power</th>\n",
       "      <th>BCOV</th>\n",
       "      <th>minusPadj</th>\n",
       "    </tr>\n",
       "  </thead>\n",
       "  <tbody>\n",
       "    <tr>\n",
       "      <th>0</th>\n",
       "      <td>ENSMUSG00000034957</td>\n",
       "      <td>Cebpa</td>\n",
       "      <td>-9.260</td>\n",
       "      <td>7.239</td>\n",
       "      <td>1.780000e-95</td>\n",
       "      <td>2.460000e-91</td>\n",
       "      <td>1.0</td>\n",
       "      <td>0.251</td>\n",
       "      <td>90.608331</td>\n",
       "    </tr>\n",
       "    <tr>\n",
       "      <th>1</th>\n",
       "      <td>ENSMUSG00000051748</td>\n",
       "      <td>Wfdc21</td>\n",
       "      <td>-5.620</td>\n",
       "      <td>6.176</td>\n",
       "      <td>6.110000e-76</td>\n",
       "      <td>4.220000e-72</td>\n",
       "      <td>1.0</td>\n",
       "      <td>0.205</td>\n",
       "      <td>71.374282</td>\n",
       "    </tr>\n",
       "    <tr>\n",
       "      <th>2</th>\n",
       "      <td>ENSMUSG00000024029</td>\n",
       "      <td>Tff3</td>\n",
       "      <td>4.262</td>\n",
       "      <td>4.226</td>\n",
       "      <td>9.790000e-54</td>\n",
       "      <td>4.520000e-50</td>\n",
       "      <td>1.0</td>\n",
       "      <td>0.191</td>\n",
       "      <td>49.345284</td>\n",
       "    </tr>\n",
       "    <tr>\n",
       "      <th>3</th>\n",
       "      <td>ENSMUSG00000029304</td>\n",
       "      <td>Spp1</td>\n",
       "      <td>5.531</td>\n",
       "      <td>7.626</td>\n",
       "      <td>6.810000e-50</td>\n",
       "      <td>2.360000e-46</td>\n",
       "      <td>1.0</td>\n",
       "      <td>0.258</td>\n",
       "      <td>45.627981</td>\n",
       "    </tr>\n",
       "    <tr>\n",
       "      <th>4</th>\n",
       "      <td>ENSMUSG00000074923</td>\n",
       "      <td>Pak6</td>\n",
       "      <td>8.618</td>\n",
       "      <td>1.980</td>\n",
       "      <td>1.310000e-35</td>\n",
       "      <td>3.620000e-32</td>\n",
       "      <td>1.0</td>\n",
       "      <td>0.295</td>\n",
       "      <td>31.441689</td>\n",
       "    </tr>\n",
       "  </tbody>\n",
       "</table>\n",
       "</div>"
      ],
      "text/plain": [
       "           Ensembl_ID Gene_symbol  Log_FoldChange  logCPM        PValue  \\\n",
       "0  ENSMUSG00000034957       Cebpa          -9.260   7.239  1.780000e-95   \n",
       "1  ENSMUSG00000051748      Wfdc21          -5.620   6.176  6.110000e-76   \n",
       "2  ENSMUSG00000024029        Tff3           4.262   4.226  9.790000e-54   \n",
       "3  ENSMUSG00000029304        Spp1           5.531   7.626  6.810000e-50   \n",
       "4  ENSMUSG00000074923        Pak6           8.618   1.980  1.310000e-35   \n",
       "\n",
       "   FDR_adjusted_P.value  Power   BCOV  minusPadj  \n",
       "0          2.460000e-91    1.0  0.251  90.608331  \n",
       "1          4.220000e-72    1.0  0.205  71.374282  \n",
       "2          4.520000e-50    1.0  0.191  49.345284  \n",
       "3          2.360000e-46    1.0  0.258  45.627981  \n",
       "4          3.620000e-32    1.0  0.295  31.441689  "
      ]
     },
     "execution_count": 6,
     "metadata": {},
     "output_type": "execute_result"
    }
   ],
   "source": [
    "# Download the results \n",
    "\n",
    "## DE\n",
    "de_example = pd.read_csv('DE/GSE214615_signatureData.csv')\n",
    "de_example.head()\n"
   ]
  },
  {
   "cell_type": "code",
   "execution_count": 8,
   "metadata": {},
   "outputs": [
    {
     "name": "stderr",
     "output_type": "stream",
     "text": [
      "/tmp/ipykernel_717687/3168761084.py:10: SettingWithCopyWarning: \n",
      "A value is trying to be set on a copy of a slice from a DataFrame.\n",
      "Try using .loc[row_indexer,col_indexer] = value instead\n",
      "\n",
      "See the caveats in the documentation: https://pandas.pydata.org/pandas-docs/stable/user_guide/indexing.html#returning-a-view-versus-a-copy\n",
      "  de_example['color'] = de_example.apply(\n"
     ]
    },
    {
     "data": {
      "application/vnd.microsoft.datawrangler.viewer.v0+json": {
       "columns": [
        {
         "name": "index",
         "rawType": "int64",
         "type": "integer"
        },
        {
         "name": "Ensembl_ID",
         "rawType": "object",
         "type": "string"
        },
        {
         "name": "Gene_symbol",
         "rawType": "object",
         "type": "string"
        },
        {
         "name": "Log_FoldChange",
         "rawType": "float64",
         "type": "float"
        },
        {
         "name": "logCPM",
         "rawType": "float64",
         "type": "float"
        },
        {
         "name": "PValue",
         "rawType": "float64",
         "type": "float"
        },
        {
         "name": "FDR_adjusted_P.value",
         "rawType": "float64",
         "type": "float"
        },
        {
         "name": "Power",
         "rawType": "float64",
         "type": "float"
        },
        {
         "name": "BCOV",
         "rawType": "float64",
         "type": "float"
        },
        {
         "name": "minusPadj",
         "rawType": "float64",
         "type": "float"
        },
        {
         "name": "-log adj.pvalue",
         "rawType": "float64",
         "type": "float"
        },
        {
         "name": "color",
         "rawType": "object",
         "type": "string"
        }
       ],
       "ref": "91349f02-53f5-416f-8ac6-893e15af2bdc",
       "rows": [
        [
         "0",
         "ENSMUSG00000034957",
         "Cebpa",
         "-9.26",
         "7.239",
         "1.7799999999999998e-95",
         "2.46e-91",
         "1.0",
         "0.251",
         "90.60833128",
         "90.60906489289663",
         "red"
        ],
        [
         "1",
         "ENSMUSG00000051748",
         "Wfdc21",
         "-5.62",
         "6.176",
         "6.11e-76",
         "4.22e-72",
         "1.0",
         "0.205",
         "71.37428243",
         "71.37468754903833",
         "red"
        ],
        [
         "2",
         "ENSMUSG00000024029",
         "Tff3",
         "4.262",
         "4.226",
         "9.79e-54",
         "4.52e-50",
         "1.0",
         "0.191",
         "49.3452836",
         "49.344861565188616",
         "blue"
        ],
        [
         "3",
         "ENSMUSG00000029304",
         "Spp1",
         "5.531",
         "7.626",
         "6.81e-50",
         "2.36e-46",
         "1.0",
         "0.258",
         "45.62798132",
         "45.627087997029896",
         "blue"
        ],
        [
         "4",
         "ENSMUSG00000074923",
         "Pak6",
         "8.618",
         "1.98",
         "1.31e-35",
         "3.62e-32",
         "1.0",
         "0.295",
         "31.4416888",
         "31.441291429466833",
         "blue"
        ]
       ],
       "shape": {
        "columns": 11,
        "rows": 5
       }
      },
      "text/html": [
       "<div>\n",
       "<style scoped>\n",
       "    .dataframe tbody tr th:only-of-type {\n",
       "        vertical-align: middle;\n",
       "    }\n",
       "\n",
       "    .dataframe tbody tr th {\n",
       "        vertical-align: top;\n",
       "    }\n",
       "\n",
       "    .dataframe thead th {\n",
       "        text-align: right;\n",
       "    }\n",
       "</style>\n",
       "<table border=\"1\" class=\"dataframe\">\n",
       "  <thead>\n",
       "    <tr style=\"text-align: right;\">\n",
       "      <th></th>\n",
       "      <th>Ensembl_ID</th>\n",
       "      <th>Gene_symbol</th>\n",
       "      <th>Log_FoldChange</th>\n",
       "      <th>logCPM</th>\n",
       "      <th>PValue</th>\n",
       "      <th>FDR_adjusted_P.value</th>\n",
       "      <th>Power</th>\n",
       "      <th>BCOV</th>\n",
       "      <th>minusPadj</th>\n",
       "      <th>-log adj.pvalue</th>\n",
       "      <th>color</th>\n",
       "    </tr>\n",
       "  </thead>\n",
       "  <tbody>\n",
       "    <tr>\n",
       "      <th>0</th>\n",
       "      <td>ENSMUSG00000034957</td>\n",
       "      <td>Cebpa</td>\n",
       "      <td>-9.260</td>\n",
       "      <td>7.239</td>\n",
       "      <td>1.780000e-95</td>\n",
       "      <td>2.460000e-91</td>\n",
       "      <td>1.0</td>\n",
       "      <td>0.251</td>\n",
       "      <td>90.608331</td>\n",
       "      <td>90.609065</td>\n",
       "      <td>red</td>\n",
       "    </tr>\n",
       "    <tr>\n",
       "      <th>1</th>\n",
       "      <td>ENSMUSG00000051748</td>\n",
       "      <td>Wfdc21</td>\n",
       "      <td>-5.620</td>\n",
       "      <td>6.176</td>\n",
       "      <td>6.110000e-76</td>\n",
       "      <td>4.220000e-72</td>\n",
       "      <td>1.0</td>\n",
       "      <td>0.205</td>\n",
       "      <td>71.374282</td>\n",
       "      <td>71.374688</td>\n",
       "      <td>red</td>\n",
       "    </tr>\n",
       "    <tr>\n",
       "      <th>2</th>\n",
       "      <td>ENSMUSG00000024029</td>\n",
       "      <td>Tff3</td>\n",
       "      <td>4.262</td>\n",
       "      <td>4.226</td>\n",
       "      <td>9.790000e-54</td>\n",
       "      <td>4.520000e-50</td>\n",
       "      <td>1.0</td>\n",
       "      <td>0.191</td>\n",
       "      <td>49.345284</td>\n",
       "      <td>49.344862</td>\n",
       "      <td>blue</td>\n",
       "    </tr>\n",
       "    <tr>\n",
       "      <th>3</th>\n",
       "      <td>ENSMUSG00000029304</td>\n",
       "      <td>Spp1</td>\n",
       "      <td>5.531</td>\n",
       "      <td>7.626</td>\n",
       "      <td>6.810000e-50</td>\n",
       "      <td>2.360000e-46</td>\n",
       "      <td>1.0</td>\n",
       "      <td>0.258</td>\n",
       "      <td>45.627981</td>\n",
       "      <td>45.627088</td>\n",
       "      <td>blue</td>\n",
       "    </tr>\n",
       "    <tr>\n",
       "      <th>4</th>\n",
       "      <td>ENSMUSG00000074923</td>\n",
       "      <td>Pak6</td>\n",
       "      <td>8.618</td>\n",
       "      <td>1.980</td>\n",
       "      <td>1.310000e-35</td>\n",
       "      <td>3.620000e-32</td>\n",
       "      <td>1.0</td>\n",
       "      <td>0.295</td>\n",
       "      <td>31.441689</td>\n",
       "      <td>31.441291</td>\n",
       "      <td>blue</td>\n",
       "    </tr>\n",
       "  </tbody>\n",
       "</table>\n",
       "</div>"
      ],
      "text/plain": [
       "           Ensembl_ID Gene_symbol  Log_FoldChange  logCPM        PValue  \\\n",
       "0  ENSMUSG00000034957       Cebpa          -9.260   7.239  1.780000e-95   \n",
       "1  ENSMUSG00000051748      Wfdc21          -5.620   6.176  6.110000e-76   \n",
       "2  ENSMUSG00000024029        Tff3           4.262   4.226  9.790000e-54   \n",
       "3  ENSMUSG00000029304        Spp1           5.531   7.626  6.810000e-50   \n",
       "4  ENSMUSG00000074923        Pak6           8.618   1.980  1.310000e-35   \n",
       "\n",
       "   FDR_adjusted_P.value  Power   BCOV  minusPadj  -log adj.pvalue color  \n",
       "0          2.460000e-91    1.0  0.251  90.608331        90.609065   red  \n",
       "1          4.220000e-72    1.0  0.205  71.374282        71.374688   red  \n",
       "2          4.520000e-50    1.0  0.191  49.345284        49.344862  blue  \n",
       "3          2.360000e-46    1.0  0.258  45.627981        45.627088  blue  \n",
       "4          3.620000e-32    1.0  0.295  31.441689        31.441291  blue  "
      ]
     },
     "execution_count": 8,
     "metadata": {},
     "output_type": "execute_result"
    }
   ],
   "source": [
    "# -log adj.pvalue \n",
    "de_example['-log adj.pvalue'] = -np.log10(de_example['FDR_adjusted_P.value'])\n",
    "# Filter logcpm < 1\n",
    "de_example = de_example[de_example['logCPM'] >= 1]\n",
    "# Define thresholds\n",
    "abs_fc = 1.5  # Replace with your desired threshold for log_Folderchange\n",
    "threshold = 0.05  # Replace with your desired threshold for -log adj.pvalue\n",
    "\n",
    "# Add a new column 'color' based on the conditions\n",
    "de_example['color'] = de_example.apply(\n",
    "    lambda row: 'red' if row['Log_FoldChange'] < -abs_fc and row['-log adj.pvalue'] > threshold\n",
    "    else 'blue' if row['Log_FoldChange'] > abs_fc and row['-log adj.pvalue'] > threshold\n",
    "    else 'white',\n",
    "    axis=1\n",
    ")\n",
    "\n",
    "de_example.head()"
   ]
  },
  {
   "cell_type": "code",
   "execution_count": 9,
   "metadata": {},
   "outputs": [
    {
     "data": {
      "image/png": "[encoded data removed]",
      "text/plain": [
       "<Figure size 1000x600 with 1 Axes>"
      ]
     },
     "metadata": {},
     "output_type": "display_data"
    }
   ],
   "source": [
    "# Select the top 20 points by -log adj.pvalue\n",
    "top_20 = de_example.nlargest(20, '-log adj.pvalue')\n",
    "\n",
    "# Volcano plot with points colored by the 'color' column\n",
    "plt.figure(figsize=(10, 6))\n",
    "sns.scatterplot(data=de_example, x='Log_FoldChange', y='-log adj.pvalue', hue='color', alpha=0.7, \n",
    "                palette={'red': 'red', 'blue': 'blue', 'white': 'gray'})\n",
    "\n",
    "# Add labels for the top 20 points\n",
    "for i, row in top_20.iterrows():\n",
    "    plt.text(row['Log_FoldChange'], row['-log adj.pvalue'], row['Gene_symbol'], \n",
    "             fontsize=8, ha='right', va='bottom')\n",
    "\n",
    "# Optional: Add threshold lines\n",
    "plt.axhline(y= threshold, color='grey', linestyle='--', label='FDR=0.05')\n",
    "plt.axvline(x=abs_fc, color='grey', linestyle='--', label='log2FC=1')\n",
    "plt.axvline(x=-abs_fc, color='grey', linestyle='--', label='log2FC=-1')\n",
    "\n",
    "plt.title('Volcano Plot of Differential Expression')\n",
    "plt.xlabel('Log2 Fold Change (log2FC)')\n",
    "plt.ylabel('-Log10 Adjusted P-value')\n",
    "\n",
    "plt.legend(title='Color')\n",
    "plt.grid(True)  \n",
    "plt.show()"
   ]
  },
  {
   "cell_type": "code",
   "execution_count": null,
   "metadata": {},
   "outputs": [],
   "source": [
    "# Export to HPA \n",
    "# Filter color that is not white\n",
    "de_example_filtered = de_example[de_example['color'] != 'white']\n",
    "gene_list = de_example_filtered['Ensembl_ID'].tolist() \n",
    "# Change character to capital"
   ]
  }
 ],
 "metadata": {
  "kernelspec": {
   "display_name": "Python 3",
   "language": "python",
   "name": "python3"
  },
  "language_info": {
   "codemirror_mode": {
    "name": "ipython",
    "version": 3
   },
   "file_extension": ".py",
   "mimetype": "text/x-python",
   "name": "python",
   "nbconvert_exporter": "python",
   "pygments_lexer": "ipython3",
   "version": "3.10.18"
  }
 },
 "nbformat": 4,
 "nbformat_minor": 2
}
